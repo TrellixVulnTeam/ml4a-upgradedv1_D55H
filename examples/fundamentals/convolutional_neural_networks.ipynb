{
  "nbformat": 4,
  "nbformat_minor": 0,
  "metadata": {
    "kernelspec": {
      "display_name": "Python 3",
      "language": "python",
      "name": "python3"
    },
    "language_info": {
      "codemirror_mode": {
        "name": "ipython",
        "version": 3
      },
      "file_extension": ".py",
      "mimetype": "text/x-python",
      "name": "python",
      "nbconvert_exporter": "python",
      "pygments_lexer": "ipython3",
      "version": "3.5.2"
    },
    "colab": {
      "name": "convolutional_neural_networks.ipynb",
      "provenance": [],
      "collapsed_sections": []
    },
    "accelerator": "GPU",
    "widgets": {
      "application/vnd.jupyter.widget-state+json": {
        "803c10d1f58746f69cd97f94d8ea52ab": {
          "model_module": "@jupyter-widgets/controls",
          "model_name": "HBoxModel",
          "state": {
            "_view_name": "HBoxView",
            "_dom_classes": [],
            "_model_name": "HBoxModel",
            "_view_module": "@jupyter-widgets/controls",
            "_model_module_version": "1.5.0",
            "_view_count": null,
            "_view_module_version": "1.5.0",
            "box_style": "",
            "layout": "IPY_MODEL_b6a791c4d3d442b2a637d01218c59d72",
            "_model_module": "@jupyter-widgets/controls",
            "children": [
              "IPY_MODEL_118a139ed477404bae60ee0414348e9e",
              "IPY_MODEL_8a621bfa404645ae93a31c00f974c884"
            ]
          }
        },
        "b6a791c4d3d442b2a637d01218c59d72": {
          "model_module": "@jupyter-widgets/base",
          "model_name": "LayoutModel",
          "state": {
            "_view_name": "LayoutView",
            "grid_template_rows": null,
            "right": null,
            "justify_content": null,
            "_view_module": "@jupyter-widgets/base",
            "overflow": null,
            "_model_module_version": "1.2.0",
            "_view_count": null,
            "flex_flow": null,
            "width": null,
            "min_width": null,
            "border": null,
            "align_items": null,
            "bottom": null,
            "_model_module": "@jupyter-widgets/base",
            "top": null,
            "grid_column": null,
            "overflow_y": null,
            "overflow_x": null,
            "grid_auto_flow": null,
            "grid_area": null,
            "grid_template_columns": null,
            "flex": null,
            "_model_name": "LayoutModel",
            "justify_items": null,
            "grid_row": null,
            "max_height": null,
            "align_content": null,
            "visibility": null,
            "align_self": null,
            "height": null,
            "min_height": null,
            "padding": null,
            "grid_auto_rows": null,
            "grid_gap": null,
            "max_width": null,
            "order": null,
            "_view_module_version": "1.2.0",
            "grid_template_areas": null,
            "object_position": null,
            "object_fit": null,
            "grid_auto_columns": null,
            "margin": null,
            "display": null,
            "left": null
          }
        },
        "118a139ed477404bae60ee0414348e9e": {
          "model_module": "@jupyter-widgets/controls",
          "model_name": "FloatProgressModel",
          "state": {
            "_view_name": "ProgressView",
            "style": "IPY_MODEL_37e7c054821746009980f9fe77c6e820",
            "_dom_classes": [],
            "description": "",
            "_model_name": "FloatProgressModel",
            "bar_style": "info",
            "max": 1,
            "_view_module": "@jupyter-widgets/controls",
            "_model_module_version": "1.5.0",
            "value": 1,
            "_view_count": null,
            "_view_module_version": "1.5.0",
            "orientation": "horizontal",
            "min": 0,
            "description_tooltip": null,
            "_model_module": "@jupyter-widgets/controls",
            "layout": "IPY_MODEL_298ef2537f3149909e9ea610d2558fa8"
          }
        },
        "8a621bfa404645ae93a31c00f974c884": {
          "model_module": "@jupyter-widgets/controls",
          "model_name": "HTMLModel",
          "state": {
            "_view_name": "HTMLView",
            "style": "IPY_MODEL_ea80c85cf4ca4b12a5229c0adbf5df9b",
            "_dom_classes": [],
            "description": "",
            "_model_name": "HTMLModel",
            "placeholder": "​",
            "_view_module": "@jupyter-widgets/controls",
            "_model_module_version": "1.5.0",
            "value": " 170500096/? [00:20&lt;00:00, 54675180.95it/s]",
            "_view_count": null,
            "_view_module_version": "1.5.0",
            "description_tooltip": null,
            "_model_module": "@jupyter-widgets/controls",
            "layout": "IPY_MODEL_cee4e3ac4b4c49fb8d6473437afc6ea0"
          }
        },
        "37e7c054821746009980f9fe77c6e820": {
          "model_module": "@jupyter-widgets/controls",
          "model_name": "ProgressStyleModel",
          "state": {
            "_view_name": "StyleView",
            "_model_name": "ProgressStyleModel",
            "description_width": "initial",
            "_view_module": "@jupyter-widgets/base",
            "_model_module_version": "1.5.0",
            "_view_count": null,
            "_view_module_version": "1.2.0",
            "bar_color": null,
            "_model_module": "@jupyter-widgets/controls"
          }
        },
        "298ef2537f3149909e9ea610d2558fa8": {
          "model_module": "@jupyter-widgets/base",
          "model_name": "LayoutModel",
          "state": {
            "_view_name": "LayoutView",
            "grid_template_rows": null,
            "right": null,
            "justify_content": null,
            "_view_module": "@jupyter-widgets/base",
            "overflow": null,
            "_model_module_version": "1.2.0",
            "_view_count": null,
            "flex_flow": null,
            "width": null,
            "min_width": null,
            "border": null,
            "align_items": null,
            "bottom": null,
            "_model_module": "@jupyter-widgets/base",
            "top": null,
            "grid_column": null,
            "overflow_y": null,
            "overflow_x": null,
            "grid_auto_flow": null,
            "grid_area": null,
            "grid_template_columns": null,
            "flex": null,
            "_model_name": "LayoutModel",
            "justify_items": null,
            "grid_row": null,
            "max_height": null,
            "align_content": null,
            "visibility": null,
            "align_self": null,
            "height": null,
            "min_height": null,
            "padding": null,
            "grid_auto_rows": null,
            "grid_gap": null,
            "max_width": null,
            "order": null,
            "_view_module_version": "1.2.0",
            "grid_template_areas": null,
            "object_position": null,
            "object_fit": null,
            "grid_auto_columns": null,
            "margin": null,
            "display": null,
            "left": null
          }
        },
        "ea80c85cf4ca4b12a5229c0adbf5df9b": {
          "model_module": "@jupyter-widgets/controls",
          "model_name": "DescriptionStyleModel",
          "state": {
            "_view_name": "StyleView",
            "_model_name": "DescriptionStyleModel",
            "description_width": "",
            "_view_module": "@jupyter-widgets/base",
            "_model_module_version": "1.5.0",
            "_view_count": null,
            "_view_module_version": "1.2.0",
            "_model_module": "@jupyter-widgets/controls"
          }
        },
        "cee4e3ac4b4c49fb8d6473437afc6ea0": {
          "model_module": "@jupyter-widgets/base",
          "model_name": "LayoutModel",
          "state": {
            "_view_name": "LayoutView",
            "grid_template_rows": null,
            "right": null,
            "justify_content": null,
            "_view_module": "@jupyter-widgets/base",
            "overflow": null,
            "_model_module_version": "1.2.0",
            "_view_count": null,
            "flex_flow": null,
            "width": null,
            "min_width": null,
            "border": null,
            "align_items": null,
            "bottom": null,
            "_model_module": "@jupyter-widgets/base",
            "top": null,
            "grid_column": null,
            "overflow_y": null,
            "overflow_x": null,
            "grid_auto_flow": null,
            "grid_area": null,
            "grid_template_columns": null,
            "flex": null,
            "_model_name": "LayoutModel",
            "justify_items": null,
            "grid_row": null,
            "max_height": null,
            "align_content": null,
            "visibility": null,
            "align_self": null,
            "height": null,
            "min_height": null,
            "padding": null,
            "grid_auto_rows": null,
            "grid_gap": null,
            "max_width": null,
            "order": null,
            "_view_module_version": "1.2.0",
            "grid_template_areas": null,
            "object_position": null,
            "object_fit": null,
            "grid_auto_columns": null,
            "margin": null,
            "display": null,
            "left": null
          }
        }
      }
    }
  },
  "cells": [
    {
      "cell_type": "markdown",
      "metadata": {
        "id": "7QSriRbEfWQd"
      },
      "source": [
        "### Convolutional networks\n",
        "\n",
        "This is an annotated version of PyTorch's [example MNIST CNN code](https://pytorch.org/tutorials/beginner/blitz/cifar10_tutorial.html) for how to implement convolutional networks.\n",
        "\n",
        "The CIFAR-10 classification task is a classic machine learning benchmark. The data includes 50,000 images belonging to 10 classes, and the task is to identify them. Along with MNIST, CIFAR-10 classification is a sort of like a \"hello world\" for computer vision and convolutional networks, so a solution can be implemented quickly with an off-the-shelf machine learning library.\n",
        "\n",
        "Since convolutional neural networks have thus far proven to be the best at computer vision tasks, we'll use the PyTorch library to implement a convolutional networks as our solution.\n",
        "\n",
        "Note, if you have been running these notebooks on a regular laptop without GPU until now, it's going to become more and more difficult to do so. The neural networks we will be training, starting with convolutional networks, will become increasingly memory and processing-intensive and may slow down laptops without good graphics processing. As such, it is recommended that you follow future tutorials inside Google Collab or a sufficiently powerful computer. \n",
        "\n",
        "Collab does not automatically include a GPU in it's runtime. Rather by navigating to Edit>Notebook Settings>Hardware Accelerator>GPU you can enable a gpu."
      ]
    },
    {
      "cell_type": "code",
      "metadata": {
        "id": "-oqQz7fGfWQe"
      },
      "source": [
        "import random\n",
        "import numpy as np\n",
        "import matplotlib.pyplot as plt\n",
        "\n",
        "import torch\n",
        "import torch.nn as nn\n",
        "import torch.nn.functional as F\n",
        "import torchvision\n",
        "import torchvision.transforms as transforms\n",
        "\n",
        "device = torch.device(\"cuda:0\" if torch.cuda.is_available() else \"cpu\")"
      ],
      "execution_count": 1,
      "outputs": []
    },
    {
      "cell_type": "markdown",
      "metadata": {
        "id": "LE31tDEQfWQg"
      },
      "source": [
        "Recall that a basic neural network in PyTorch can be set up like this:\n",
        "Note:\n",
        "The images in CIFAR-10 are 32 by 32. An easy way to troubleshoot the correct input dimension is to encounter a dimension mismatch error. For example, [2x35] x [1024x4] doesn't work, but [2x1024] x [1924x4] does. This is usually as simple as matching the second matrix's first number with the first matrix's second number."
      ]
    },
    {
      "cell_type": "code",
      "metadata": {
        "id": "OzYJ9JMgfWQh"
      },
      "source": [
        "class Net(nn.Module):\n",
        "\n",
        "    def __init__(self):\n",
        "        super(Net, self).__init__()\n",
        "        self.fc1 = nn.Linear(32, 64) \n",
        "        self.fc2 = nn.Linear(64, 1)\n",
        "    def forward(self, x):\n",
        "         x = F.sigmoid(self.fc1(x))\n",
        "         x = self.fc2(x)\n",
        "         return x\n",
        "\n",
        "net = Net().to(device)"
      ],
      "execution_count": 2,
      "outputs": []
    },
    {
      "cell_type": "markdown",
      "metadata": {
        "id": "c8594MPbfWQj"
      },
      "source": [
        "We load CIFAR-10 dataset and reshape them as individual vectors. This is easy to do using TorchVision as all the classes are essentially reshapen already. Here we use the DataLoader to create an instance of the training dataset and the test set. The DataLoader also has an option to shuffle the dataset, which helps avoid overfitting."
      ]
    },
    {
      "cell_type": "code",
      "metadata": {
        "id": "9Ckw_2iOfWQj",
        "outputId": "aa881ee8-4b3b-43bb-bf2c-99d743f5f8bc",
        "colab": {
          "base_uri": "https://localhost:8080/",
          "height": 104,
          "referenced_widgets": [
            "803c10d1f58746f69cd97f94d8ea52ab",
            "b6a791c4d3d442b2a637d01218c59d72",
            "118a139ed477404bae60ee0414348e9e",
            "8a621bfa404645ae93a31c00f974c884",
            "37e7c054821746009980f9fe77c6e820",
            "298ef2537f3149909e9ea610d2558fa8",
            "ea80c85cf4ca4b12a5229c0adbf5df9b",
            "cee4e3ac4b4c49fb8d6473437afc6ea0"
          ]
        }
      },
      "source": [
        "transform = transforms.Compose(\n",
        "    [transforms.ToTensor(),\n",
        "     transforms.Normalize((0.5, 0.5, 0.5), (0.5, 0.5, 0.5))])\n",
        "\n",
        "trainset = torchvision.datasets.CIFAR10(root='./data', train=True,\n",
        "                                        download=True, transform=transform)\n",
        "trainloader = torch.utils.data.DataLoader(trainset, batch_size=128,\n",
        "                                          shuffle=True, num_workers=8)\n",
        "\n",
        "testset = torchvision.datasets.CIFAR10(root='./data', train=False,\n",
        "                                       download=True, transform=transform)\n",
        "testloader = torch.utils.data.DataLoader(testset, batch_size=128,\n",
        "                                         shuffle=False, num_workers=8)\n",
        "\n",
        "classes = ('plane', 'car', 'bird', 'cat',\n",
        "           'deer', 'dog', 'frog', 'horse', 'ship', 'truck')\n"
      ],
      "execution_count": 3,
      "outputs": [
        {
          "output_type": "stream",
          "text": [
            "Downloading https://www.cs.toronto.edu/~kriz/cifar-10-python.tar.gz to ./data/cifar-10-python.tar.gz\n"
          ],
          "name": "stdout"
        },
        {
          "output_type": "display_data",
          "data": {
            "application/vnd.jupyter.widget-view+json": {
              "model_id": "803c10d1f58746f69cd97f94d8ea52ab",
              "version_minor": 0,
              "version_major": 2
            },
            "text/plain": [
              "HBox(children=(FloatProgress(value=1.0, bar_style='info', max=1.0), HTML(value='')))"
            ]
          },
          "metadata": {
            "tags": []
          }
        },
        {
          "output_type": "stream",
          "text": [
            "Extracting ./data/cifar-10-python.tar.gz to ./data\n",
            "Files already downloaded and verified\n"
          ],
          "name": "stdout"
        }
      ]
    },
    {
      "cell_type": "markdown",
      "metadata": {
        "id": "42I-jZ-sfWQl"
      },
      "source": [
        "Let's see some of our samples."
      ]
    },
    {
      "cell_type": "code",
      "metadata": {
        "id": "H6BXkvqEfWQm",
        "outputId": "276e409a-6b21-484b-9056-faf179619830",
        "colab": {
          "base_uri": "https://localhost:8080/",
          "height": 287
        }
      },
      "source": [
        "def imshow(img):\n",
        "    img = img / 2 + 0.5     # unnormalize\n",
        "    npimg = img.numpy()\n",
        "    plt.imshow(np.transpose(npimg, (1, 2, 0)))\n",
        "    plt.show()\n",
        "\n",
        "\n",
        "# get some random training images\n",
        "dataiter = iter(trainloader)\n",
        "images, labels = dataiter.next()\n",
        "\n",
        "# show images\n",
        "imshow(torchvision.utils.make_grid(images))\n",
        "# print labels\n",
        "print(' '.join('%5s' % classes[labels[j]] for j in range(4)))\n"
      ],
      "execution_count": 4,
      "outputs": [
        {
          "output_type": "display_data",
          "data": {
            "image/png": "[encoded data removed]",
            "text/plain": [
              "<Figure size 432x288 with 1 Axes>"
            ]
          },
          "metadata": {
            "tags": [],
            "needs_background": "light"
          }
        },
        {
          "output_type": "stream",
          "text": [
            "  dog  deer   car   cat\n"
          ],
          "name": "stdout"
        }
      ]
    },
    {
      "cell_type": "markdown",
      "metadata": {
        "id": "cUxNBpIGfWQo"
      },
      "source": [
        "We can compile the model using categorical-cross-entropy loss, and train it for 30 epochs."
      ]
    },
    {
      "cell_type": "code",
      "metadata": {
        "id": "mH8QXCPsfWQo",
        "outputId": "06f342ca-ea4e-476f-edf3-6b01721bd30d",
        "colab": {
          "base_uri": "https://localhost:8080/",
          "height": 1000
        }
      },
      "source": [
        "from torch import optim\n",
        "optimizer = optim.SGD(net.parameters(), lr=0.01)\n",
        "criterion = nn.MSELoss()\n",
        "\n",
        "def fullPass(loader):\n",
        "\n",
        "    running_loss = 0.0\n",
        "    for i, data in enumerate(loader, 0):\n",
        "        inputs, labels = data\n",
        "        inputs, labels = inputs.to(device), labels.to(device)\n",
        "        outputs = net(inputs)\n",
        "        loss = criterion(outputs, labels.float())\n",
        "        loss.backward()\n",
        "        optimizer.step()\n",
        "\n",
        "        # print statistics\n",
        "        running_loss += loss\n",
        "        if i % inputs.size()[0] == inputs.size()[0]-1:\n",
        "            print('[%d, %5d] loss: %.3f' %\n",
        "                  (epoch + 1, i + 1, running_loss / inputs.size()[0]))\n",
        "            running_loss = 0.0\n",
        "\n",
        "net.train()\n",
        "for epoch in range(30):\n",
        "    fullPass(trainloader);\n",
        "\n",
        "\n",
        "print('Finished Training')\n"
      ],
      "execution_count": 5,
      "outputs": [
        {
          "output_type": "stream",
          "text": [
            "/usr/local/lib/python3.6/dist-packages/torch/nn/functional.py:1625: UserWarning: nn.functional.sigmoid is deprecated. Use torch.sigmoid instead.\n",
            "  warnings.warn(\"nn.functional.sigmoid is deprecated. Use torch.sigmoid instead.\")\n",
            "/usr/local/lib/python3.6/dist-packages/torch/nn/modules/loss.py:445: UserWarning: Using a target size (torch.Size([128])) that is different to the input size (torch.Size([128, 3, 32, 1])). This will likely lead to incorrect results due to broadcasting. Please ensure they have the same size.\n",
            "  return F.mse_loss(input, target, reduction=self.reduction)\n"
          ],
          "name": "stderr"
        },
        {
          "output_type": "stream",
          "text": [
            "[1,   128] loss: 13.367\n",
            "[1,   256] loss: 9.915\n",
            "[1,   384] loss: 9.795\n"
          ],
          "name": "stdout"
        },
        {
          "output_type": "stream",
          "text": [
            "/usr/local/lib/python3.6/dist-packages/torch/nn/modules/loss.py:445: UserWarning: Using a target size (torch.Size([80])) that is different to the input size (torch.Size([80, 3, 32, 1])). This will likely lead to incorrect results due to broadcasting. Please ensure they have the same size.\n",
            "  return F.mse_loss(input, target, reduction=self.reduction)\n"
          ],
          "name": "stderr"
        },
        {
          "output_type": "stream",
          "text": [
            "[2,   128] loss: 9.766\n",
            "[2,   256] loss: 9.634\n",
            "[2,   384] loss: 9.111\n",
            "[3,   128] loss: 9.781\n",
            "[3,   256] loss: 8.900\n",
            "[3,   384] loss: 8.913\n",
            "[4,   128] loss: 8.370\n",
            "[4,   256] loss: 8.381\n",
            "[4,   384] loss: 8.713\n",
            "[5,   128] loss: 8.794\n",
            "[5,   256] loss: 8.687\n",
            "[5,   384] loss: 8.644\n",
            "[6,   128] loss: 8.482\n",
            "[6,   256] loss: 8.309\n",
            "[6,   384] loss: 8.389\n",
            "[7,   128] loss: 8.312\n",
            "[7,   256] loss: 8.277\n",
            "[7,   384] loss: 8.306\n",
            "[8,   128] loss: 8.284\n",
            "[8,   256] loss: 8.265\n",
            "[8,   384] loss: 8.358\n",
            "[9,   128] loss: 8.495\n",
            "[9,   256] loss: 8.630\n",
            "[9,   384] loss: 8.933\n",
            "[10,   128] loss: 9.326\n",
            "[10,   256] loss: 9.523\n",
            "[10,   384] loss: 9.485\n",
            "[11,   128] loss: 9.439\n",
            "[11,   256] loss: 9.824\n",
            "[11,   384] loss: 10.017\n",
            "[12,   128] loss: 9.543\n",
            "[12,   256] loss: 8.780\n",
            "[12,   384] loss: 8.718\n",
            "[13,   128] loss: 8.443\n",
            "[13,   256] loss: 8.611\n",
            "[13,   384] loss: 9.205\n",
            "[14,   128] loss: 9.175\n",
            "[14,   256] loss: 8.987\n",
            "[14,   384] loss: 8.787\n",
            "[15,   128] loss: 8.364\n",
            "[15,   256] loss: 8.275\n",
            "[15,   384] loss: 8.216\n",
            "[16,   128] loss: 8.458\n",
            "[16,   256] loss: 8.394\n",
            "[16,   384] loss: 8.337\n",
            "[17,   128] loss: 8.375\n",
            "[17,   256] loss: 8.285\n",
            "[17,   384] loss: 8.306\n",
            "[18,   128] loss: 8.523\n",
            "[18,   256] loss: 8.563\n",
            "[18,   384] loss: 8.796\n",
            "[19,   128] loss: 8.625\n",
            "[19,   384] loss: 8.889\n",
            "[20,   128] loss: 8.779\n",
            "[20,   256] loss: 9.068\n",
            "[20,   384] loss: 9.528\n",
            "[21,   128] loss: 9.301\n",
            "[21,   256] loss: 9.058\n",
            "[21,   384] loss: 8.965\n",
            "[22,   128] loss: 9.028\n",
            "[22,   256] loss: 8.702\n",
            "[22,   384] loss: 8.919\n",
            "[23,   128] loss: 8.963\n",
            "[23,   256] loss: 9.101\n",
            "[23,   384] loss: 9.140\n",
            "[24,   128] loss: 8.953\n",
            "[24,   256] loss: 8.552\n",
            "[24,   384] loss: 8.797\n",
            "[25,   128] loss: 9.106\n",
            "[25,   256] loss: 8.715\n",
            "[25,   384] loss: 8.922\n",
            "[26,   128] loss: 8.910\n",
            "[26,   256] loss: 9.403\n",
            "[26,   384] loss: 9.758\n",
            "[27,   128] loss: 9.875\n",
            "[27,   256] loss: 9.438\n",
            "[27,   384] loss: 9.167\n",
            "[28,   128] loss: 9.618\n",
            "[28,   256] loss: 9.955\n",
            "[28,   384] loss: 9.741\n",
            "[29,   128] loss: 9.039\n",
            "[29,   256] loss: 9.027\n",
            "[29,   384] loss: 8.832\n",
            "[30,   128] loss: 8.761\n",
            "[30,   256] loss: 8.616\n",
            "[30,   384] loss: 8.467\n",
            "Finished Training\n"
          ],
          "name": "stdout"
        }
      ]
    },
    {
      "cell_type": "markdown",
      "metadata": {
        "id": "i50bFYpWfWQq"
      },
      "source": [
        "At this point, there is practically no need to evaluate the model as our neural net is simply not cutting it. With a loss function in the millions, we cannot use a single layer simple neural network on images."
      ]
    },
    {
      "cell_type": "markdown",
      "metadata": {
        "id": "Q9EPu5HHfWQt"
      },
      "source": [
        "Introducing, the convolutional network... The general architecture of a convolutional neural network is this:\n",
        "\n",
        "- convolution layers, followed by pooling layers\n",
        "- fully-connected layers\n",
        "- a final fully-connected softmax layer\n",
        "\n",
        "We'll follow this same basic structure and interweave some other components, such as [dropout](https://en.wikipedia.org/wiki/Dropout_(neural_networks), to improve performance.\n",
        "\n",
        "To begin, we start with our convolution layers. We first need to specify some architectural hyperparemeters:\n",
        "\n",
        "- _How many filters do we want for our convolution layers?_ Like most hyperparameters, this is chosen through a mix of intuition and tuning. A rough rule of thumb is: the more complex the task, the more filters. (Note that we don't need to have the same number of filters for each convolution layer, but we are doing so here for convenience.)\n",
        "- _What size should our convolution filters be?_ We don't want filters to be too large or the resulting matrix might not be very meaningful. For instance, a useless filter size in this task would be a 28x28 filter since it covers the whole image. We also don't want filters to be too small for a similar reason, e.g. a 1x1 filter just returns each pixel.\n",
        "- _What size should our pooling window be?_ Again, we don't want pooling windows to be too large or we'll be throwing away information. However, for larger images, a larger pooling window might be appropriate (same goes for convolution filters).\n",
        "\n",
        "We start by designing a neural network with two alternating convolutional and max-pooling layers, followed by a 100-neuron fully-connected layer and a 10-neuron output. We'll have 64 and 32 filters in the two convolutional layers, and make the input shape a full-sized image (32x32x3) instead of an unrolled vector (3072x1).  We also now use ReLU activation units instead of sigmoids, to avoid vanishing gradients."
      ]
    },
    {
      "cell_type": "code",
      "metadata": {
        "id": "9oohj429fWQt",
        "outputId": "c1e2e14c-4b76-487f-a1d4-05f6ea890713",
        "colab": {
          "base_uri": "https://localhost:8080/",
          "height": 163
        }
      },
      "source": [
        "class Net(nn.Module):\n",
        "    def __init__(self):\n",
        "        super(Net, self).__init__()\n",
        "        self.conv1 = nn.Conv2d(3, 6, 5)\n",
        "        self.pool = nn.MaxPool2d(2, 2)\n",
        "        self.conv2 = nn.Conv2d(6, 16, 5)\n",
        "        self.fc1 = nn.Linear(16 * 5 * 5, 120)\n",
        "        self.fc2 = nn.Linear(120, 84)\n",
        "        self.fc3 = nn.Linear(84, 10)\n",
        "\n",
        "    def forward(self, x):\n",
        "        x = self.pool(F.relu(self.conv1(x)))\n",
        "        x = self.pool(F.relu(self.conv2(x)))\n",
        "        x = x.view(-1, 16 * 5 * 5)\n",
        "        x = F.relu(self.fc1(x))\n",
        "        x = F.relu(self.fc2(x))\n",
        "        x = self.fc3(x)\n",
        "        return x\n",
        "\n",
        "\n",
        "net = Net().to(device)\n",
        "print(net)"
      ],
      "execution_count": 6,
      "outputs": [
        {
          "output_type": "stream",
          "text": [
            "Net(\n",
            "  (conv1): Conv2d(3, 6, kernel_size=(5, 5), stride=(1, 1))\n",
            "  (pool): MaxPool2d(kernel_size=2, stride=2, padding=0, dilation=1, ceil_mode=False)\n",
            "  (conv2): Conv2d(6, 16, kernel_size=(5, 5), stride=(1, 1))\n",
            "  (fc1): Linear(in_features=400, out_features=120, bias=True)\n",
            "  (fc2): Linear(in_features=120, out_features=84, bias=True)\n",
            "  (fc3): Linear(in_features=84, out_features=10, bias=True)\n",
            ")\n"
          ],
          "name": "stdout"
        }
      ]
    },
    {
      "cell_type": "markdown",
      "metadata": {
        "id": "4FffAuyrfWQx"
      },
      "source": [
        "Let's compile the model and test it again."
      ]
    },
    {
      "cell_type": "code",
      "metadata": {
        "id": "mfuSe7CHfWQx",
        "outputId": "dff6a8ff-4b3a-480c-e048-dad5a322b113",
        "colab": {
          "base_uri": "https://localhost:8080/",
          "height": 1000
        }
      },
      "source": [
        "\n",
        "criterion = nn.CrossEntropyLoss()\n",
        "optimizer = optim.SGD(net.parameters(), lr=0.001, momentum=0.9)\n",
        "\n",
        "for epoch in range(30):  # loop over the dataset multiple times\n",
        "\n",
        "    running_loss = 0.0\n",
        "    for i, data in enumerate(trainloader, 0):\n",
        "        # get the inputs; data is a list of [inputs, labels]\n",
        "        inputs, labels = data\n",
        "        inputs, labels = inputs.to(device), labels.to(device)\n",
        "\n",
        "        # zero the parameter gradients\n",
        "        optimizer.zero_grad()\n",
        "\n",
        "        # forward + backward + optimize\n",
        "        outputs = net(inputs)\n",
        "        loss = criterion(outputs, labels)\n",
        "        loss.backward()\n",
        "        optimizer.step()\n",
        "\n",
        "        # print statistics\n",
        "        running_loss += loss.item()\n",
        "        if i % 128 == 127:    # print every 2000 mini-batches\n",
        "            print('[%d, %5d] loss: %.3f' %\n",
        "                  (epoch + 1, i + 1, running_loss / 128))\n",
        "            running_loss = 0.0\n",
        "\n",
        "print('Finished Training')\n"
      ],
      "execution_count": 7,
      "outputs": [
        {
          "output_type": "stream",
          "text": [
            "[1,   128] loss: 2.304\n",
            "[1,   256] loss: 2.302\n",
            "[1,   384] loss: 2.301\n",
            "[2,   128] loss: 2.298\n",
            "[2,   256] loss: 2.295\n",
            "[2,   384] loss: 2.289\n",
            "[3,   128] loss: 2.278\n",
            "[3,   256] loss: 2.254\n",
            "[3,   384] loss: 2.212\n",
            "[4,   128] loss: 2.124\n",
            "[4,   256] loss: 2.066\n",
            "[4,   384] loss: 2.015\n",
            "[5,   128] loss: 1.967\n",
            "[5,   256] loss: 1.938\n",
            "[5,   384] loss: 1.898\n",
            "[6,   128] loss: 1.853\n",
            "[6,   256] loss: 1.818\n",
            "[6,   384] loss: 1.782\n",
            "[7,   128] loss: 1.732\n",
            "[7,   256] loss: 1.706\n",
            "[7,   384] loss: 1.672\n",
            "[8,   128] loss: 1.660\n",
            "[8,   256] loss: 1.633\n",
            "[8,   384] loss: 1.602\n",
            "[9,   128] loss: 1.595\n",
            "[9,   256] loss: 1.574\n",
            "[9,   384] loss: 1.550\n",
            "[10,   128] loss: 1.541\n",
            "[10,   256] loss: 1.508\n",
            "[10,   384] loss: 1.514\n",
            "[11,   128] loss: 1.491\n",
            "[11,   256] loss: 1.471\n",
            "[11,   384] loss: 1.479\n",
            "[12,   128] loss: 1.464\n",
            "[12,   256] loss: 1.458\n",
            "[12,   384] loss: 1.436\n",
            "[13,   128] loss: 1.436\n",
            "[13,   256] loss: 1.422\n",
            "[13,   384] loss: 1.425\n",
            "[14,   128] loss: 1.411\n",
            "[14,   256] loss: 1.415\n",
            "[14,   384] loss: 1.391\n",
            "[15,   128] loss: 1.384\n",
            "[15,   256] loss: 1.388\n",
            "[15,   384] loss: 1.379\n",
            "[16,   128] loss: 1.370\n",
            "[16,   256] loss: 1.361\n",
            "[16,   384] loss: 1.357\n",
            "[17,   128] loss: 1.349\n",
            "[17,   256] loss: 1.344\n",
            "[17,   384] loss: 1.326\n",
            "[18,   128] loss: 1.329\n",
            "[18,   256] loss: 1.325\n",
            "[18,   384] loss: 1.316\n",
            "[19,   128] loss: 1.305\n",
            "[19,   256] loss: 1.293\n",
            "[19,   384] loss: 1.315\n",
            "[20,   128] loss: 1.300\n",
            "[20,   256] loss: 1.275\n",
            "[20,   384] loss: 1.283\n",
            "[21,   128] loss: 1.272\n",
            "[21,   256] loss: 1.264\n",
            "[21,   384] loss: 1.267\n",
            "[22,   128] loss: 1.239\n",
            "[22,   256] loss: 1.259\n",
            "[22,   384] loss: 1.243\n",
            "[23,   128] loss: 1.230\n",
            "[23,   256] loss: 1.225\n",
            "[23,   384] loss: 1.232\n",
            "[24,   128] loss: 1.226\n",
            "[24,   256] loss: 1.221\n",
            "[24,   384] loss: 1.211\n",
            "[25,   128] loss: 1.193\n",
            "[25,   256] loss: 1.197\n",
            "[25,   384] loss: 1.201\n",
            "[26,   128] loss: 1.183\n",
            "[26,   256] loss: 1.190\n",
            "[26,   384] loss: 1.183\n",
            "[27,   128] loss: 1.171\n",
            "[27,   256] loss: 1.174\n",
            "[27,   384] loss: 1.157\n",
            "[28,   128] loss: 1.158\n",
            "[28,   256] loss: 1.156\n",
            "[28,   384] loss: 1.152\n",
            "[29,   128] loss: 1.141\n",
            "[29,   256] loss: 1.144\n",
            "[29,   384] loss: 1.125\n",
            "[30,   128] loss: 1.120\n",
            "[30,   256] loss: 1.123\n",
            "[30,   384] loss: 1.134\n",
            "Finished Training\n"
          ],
          "name": "stdout"
        }
      ]
    },
    {
      "cell_type": "markdown",
      "metadata": {
        "id": "TMv76B48fWQ1"
      },
      "source": [
        "Let's evaluate the model again."
      ]
    },
    {
      "cell_type": "code",
      "metadata": {
        "id": "NgKzhIIOfWQ1",
        "outputId": "757a4668-e991-401d-bb45-8a3d33ae0128",
        "colab": {
          "base_uri": "https://localhost:8080/",
          "height": 35
        }
      },
      "source": [
        "correct = 0\n",
        "total = 0\n",
        "with torch.no_grad():\n",
        "    for data in testloader:\n",
        "        images, labels = data\n",
        "        images, labels = images.to(device), labels.to(device)\n",
        "        outputs = net(images)\n",
        "        _, predicted = torch.max(outputs.data, 1)\n",
        "        total += labels.size(0)\n",
        "        correct += (predicted == labels).sum().item()\n",
        "\n",
        "print('Accuracy of the network on the 10000 test images: %d %%' % (\n",
        "    100 * correct / total))"
      ],
      "execution_count": 8,
      "outputs": [
        {
          "output_type": "stream",
          "text": [
            "Accuracy of the network on the 10000 test images: 58 %\n"
          ],
          "name": "stdout"
        }
      ]
    },
    {
      "cell_type": "markdown",
      "metadata": {
        "id": "kOah5GZ3fWQ3"
      },
      "source": [
        "58% accuracy is a big improvement on practically nothing! All of that is accomplished in just 2 epochs using convolutional layers and ReLUs. \n",
        "\n",
        "Let's try to make the network bigger."
      ]
    },
    {
      "cell_type": "markdown",
      "metadata": {
        "id": "lkDH4GhmfWQ9"
      },
      "source": [
        "One problem you might notice is that the accuracy of the model is much better on the training set than on the test set. You can see that by monitoring the progress at the end of each epoch above or by evaluating it directly."
      ]
    },
    {
      "cell_type": "markdown",
      "metadata": {
        "id": "Q4KJd9DafWQ_"
      },
      "source": [
        "This is a symptom of \"overfitting\".  Our model has probably tried to bend itself a little too well towards predicting the training set but does not generalize very well to unseen data. This is a very common problem. \n",
        "\n",
        "It's normal for the training accuracy to be better than the testng accuracy to some degree, because it's hard to avoid for the network to be better at predicting the data it sees. But a 9% difference is too much.\n",
        "\n",
        "One way of helping this is by doing some regularization. We can add dropout to our model after a few layers.\n",
        "\n",
        "All this is arguably most essential, albeit timeconsuming, part of designing a neural network: Editting hyperparamenters."
      ]
    },
    {
      "cell_type": "markdown",
      "metadata": {
        "id": "1Be7qE7UfWRC"
      },
      "source": [
        "We compile and train again."
      ]
    },
    {
      "cell_type": "markdown",
      "metadata": {
        "id": "JkCb3E_QfWRF"
      },
      "source": [
        "Training accuracy will likely lower but our test accuracy will increase.  This is more like what we expect."
      ]
    },
    {
      "cell_type": "markdown",
      "metadata": {
        "id": "krWf3QT8fWRH"
      },
      "source": [
        "Another way of improving performance is to experiment with different optimizers beyond just standard sgd. Let's try to instantiate the same network but use ADAM instead of sgd."
      ]
    },
    {
      "cell_type": "code",
      "metadata": {
        "id": "baM0F0gsfWRI",
        "outputId": "52e33a70-7cf4-4356-b0a6-7f41d1c53b88",
        "colab": {
          "base_uri": "https://localhost:8080/",
          "height": 308
        }
      },
      "source": [
        "\n",
        "criterion = nn.CrossEntropyLoss()\n",
        "optimizer = optim.Adam(net.parameters(), lr=0.001)\n",
        "\n",
        "for epoch in range(5):  # loop over the dataset multiple times\n",
        "\n",
        "    running_loss = 0.0\n",
        "    for i, data in enumerate(trainloader, 0):\n",
        "        # get the inputs; data is a list of [inputs, labels]\n",
        "        inputs, labels = data\n",
        "        inputs, labels = inputs.to(device), labels.to(device)\n",
        "\n",
        "        # zero the parameter gradients\n",
        "        optimizer.zero_grad()\n",
        "\n",
        "        # forward + backward + optimize\n",
        "        outputs = net(inputs)\n",
        "        loss = criterion(outputs, labels)\n",
        "        loss.backward()\n",
        "        optimizer.step()\n",
        "\n",
        "        # print statistics\n",
        "        running_loss += loss.item()\n",
        "        if i % 128 == 127:    # print every 2000 mini-batches\n",
        "            print('[%d, %5d] loss: %.3f' %\n",
        "                  (epoch + 1, i + 1, running_loss / 128))\n",
        "            running_loss = 0.0\n",
        "\n",
        "print('Finished Training')"
      ],
      "execution_count": 9,
      "outputs": [
        {
          "output_type": "stream",
          "text": [
            "[1,   128] loss: 1.214\n",
            "[1,   256] loss: 1.177\n",
            "[1,   384] loss: 1.191\n",
            "[2,   128] loss: 1.128\n",
            "[2,   256] loss: 1.146\n",
            "[2,   384] loss: 1.136\n",
            "[3,   128] loss: 1.084\n",
            "[3,   256] loss: 1.096\n",
            "[3,   384] loss: 1.099\n",
            "[4,   128] loss: 1.039\n",
            "[4,   256] loss: 1.043\n",
            "[4,   384] loss: 1.069\n",
            "[5,   128] loss: 0.999\n",
            "[5,   256] loss: 1.007\n",
            "[5,   384] loss: 1.005\n",
            "Finished Training\n"
          ],
          "name": "stdout"
        }
      ]
    },
    {
      "cell_type": "code",
      "metadata": {
        "id": "1XR3cDVXfWRJ",
        "outputId": "ed3cbd01-9cac-4269-8d34-a14096ceb5f0",
        "colab": {
          "base_uri": "https://localhost:8080/",
          "height": 35
        }
      },
      "source": [
        "correct = 0\n",
        "total = 0\n",
        "with torch.no_grad():\n",
        "    for data in testloader:\n",
        "        images, labels = data\n",
        "        images, labels = images.to(device), labels.to(device)\n",
        "        outputs = net(images)\n",
        "        _, predicted = torch.max(outputs.data, 1)\n",
        "        total += labels.size(0)\n",
        "        correct += (predicted == labels).sum().item()\n",
        "\n",
        "print('Accuracy of the network on the 10000 test images: %d %%' % (\n",
        "    100 * correct / total))\n"
      ],
      "execution_count": 10,
      "outputs": [
        {
          "output_type": "stream",
          "text": [
            "Accuracy of the network on the 10000 test images: 61 %\n"
          ],
          "name": "stdout"
        }
      ]
    },
    {
      "cell_type": "markdown",
      "metadata": {
        "id": "02CppcGwfWRM"
      },
      "source": [
        "61% accuracy! Our best yet. Looks heavily overfit though...\n",
        "\n",
        "Still a long way to go to beat the [record](http://rodrigob.github.io/are_we_there_yet/build/classification_datasets_results.html#43494641522d3130) (96%).  We can make a lot of progress by making the network (much) bigger, training for (much) longer and using a lot of little tricks (like data augmentation) but that is beyond the scope of this lesson for now."
      ]
    },
    {
      "cell_type": "markdown",
      "metadata": {
        "id": "8EfQfVcdfWRM"
      },
      "source": [
        "Let's also recall how to predict a single value and look at its probabilities."
      ]
    },
    {
      "cell_type": "code",
      "metadata": {
        "id": "wZA3QfKMfWRN",
        "outputId": "f350db19-3535-4bda-956d-7cf7a10a9e33",
        "colab": {
          "base_uri": "https://localhost:8080/",
          "height": 305
        }
      },
      "source": [
        "dataiter = iter(testloader)\n",
        "images, labels = dataiter.next()\n",
        "\n",
        "# print images\n",
        "imshow(torchvision.utils.make_grid(images))\n",
        "print('GroundTruth: ', ' '.join('%5s' % classes[labels[j]] for j in range(4)))\n",
        "\n",
        "_, predicted = torch.max(outputs, 1)\n",
        "\n",
        "print('Predicted: ', ' '.join('%5s' % classes[predicted[j]]\n",
        "                              for j in range(4)))"
      ],
      "execution_count": 13,
      "outputs": [
        {
          "output_type": "display_data",
          "data": {
            "image/png": "[encoded data removed]",
            "text/plain": [
              "<Figure size 432x288 with 1 Axes>"
            ]
          },
          "metadata": {
            "tags": [],
            "needs_background": "light"
          }
        },
        {
          "output_type": "stream",
          "text": [
            "GroundTruth:    cat  ship  ship plane\n",
            "Predicted:   deer   cat   car plane\n"
          ],
          "name": "stdout"
        }
      ]
    },
    {
      "cell_type": "markdown",
      "metadata": {
        "id": "Y0XLTnl1fWRO"
      },
      "source": [
        "Let's also review here how to save and load trained PyTorch models. It's easy!"
      ]
    },
    {
      "cell_type": "code",
      "metadata": {
        "id": "BBUZR1xwfWRP",
        "outputId": "4394b52c-690f-4295-cade-d9b593ca956f",
        "colab": {
          "base_uri": "https://localhost:8080/",
          "height": 1000
        }
      },
      "source": [
        "PATH = './cifar_net.pth'\n",
        "torch.save(net.state_dict(), PATH)\n",
        "\n",
        "torch.load(PATH)"
      ],
      "execution_count": 14,
      "outputs": [
        {
          "output_type": "execute_result",
          "data": {
            "text/plain": [
              "OrderedDict([('conv1.weight',\n",
              "              tensor([[[[-0.0100, -0.0199, -0.0696,  0.0085,  0.0329],\n",
              "                        [ 0.0402,  0.1905,  0.0991,  0.1696, -0.0656],\n",
              "                        [ 0.1004,  0.1826,  0.1396,  0.1037,  0.0993],\n",
              "                        [ 0.1020,  0.0825,  0.1970,  0.0034,  0.0480],\n",
              "                        [-0.0252,  0.0853, -0.0737,  0.1151, -0.0047]],\n",
              "              \n",
              "                       [[-0.0613, -0.0963, -0.0154, -0.1224, -0.1382],\n",
              "                        [-0.1230,  0.0133, -0.0747, -0.0797, -0.0313],\n",
              "                        [-0.0014, -0.0170,  0.0767, -0.0158, -0.0281],\n",
              "                        [-0.0122, -0.1144, -0.1027,  0.0551, -0.1603],\n",
              "                        [-0.0958, -0.0990, -0.0618, -0.0064,  0.0060]],\n",
              "              \n",
              "                       [[ 0.0495,  0.1308,  0.1186,  0.0631,  0.0037],\n",
              "                        [ 0.0821,  0.0934,  0.1649,  0.0031,  0.0303],\n",
              "                        [ 0.0514,  0.1470,  0.1583,  0.1735, -0.0721],\n",
              "                        [ 0.0314,  0.1210,  0.1567,  0.1026,  0.1434],\n",
              "                        [-0.0050, -0.0149,  0.0729,  0.0274,  0.1054]]],\n",
              "              \n",
              "              \n",
              "                      [[[ 0.0777, -0.0598, -0.2338, -0.1074,  0.1317],\n",
              "                        [ 0.1082,  0.0467, -0.1885, -0.3779,  0.1097],\n",
              "                        [ 0.0393, -0.0955, -0.1739, -0.2224, -0.2016],\n",
              "                        [-0.0294, -0.0392,  0.1181,  0.2461, -0.2906],\n",
              "                        [-0.2202,  0.0462,  0.3761,  0.3669, -0.0124]],\n",
              "              \n",
              "                       [[ 0.0329, -0.0280, -0.1888,  0.0212,  0.3078],\n",
              "                        [ 0.0013,  0.0356, -0.2396, -0.3129,  0.1260],\n",
              "                        [ 0.1395, -0.1521, -0.0955, -0.0828, -0.1288],\n",
              "                        [-0.1325, -0.1029,  0.0812,  0.2569, -0.2085],\n",
              "                        [-0.1135,  0.0734,  0.2594,  0.3698, -0.0700]],\n",
              "              \n",
              "                       [[ 0.0867,  0.1217, -0.0637, -0.0914,  0.1742],\n",
              "                        [ 0.0232,  0.1966, -0.0244, -0.3503,  0.0734],\n",
              "                        [ 0.0312, -0.0704, -0.1040, -0.1954, -0.1622],\n",
              "                        [ 0.1288, -0.1432,  0.0909,  0.2669, -0.0106],\n",
              "                        [-0.2201,  0.0987,  0.2921,  0.2886, -0.0707]]],\n",
              "              \n",
              "              \n",
              "                      [[[-0.1050, -0.1348, -0.1153, -0.0819, -0.0878],\n",
              "                        [-0.1108, -0.2920, -0.3541, -0.1844, -0.0974],\n",
              "                        [-0.3128, -0.3152, -0.2855, -0.2385, -0.1111],\n",
              "                        [-0.1243, -0.1136, -0.0864, -0.0849,  0.0369],\n",
              "                        [ 0.0092,  0.1692,  0.1758,  0.1797,  0.1367]],\n",
              "              \n",
              "                       [[ 0.1192,  0.1553,  0.1472,  0.1825,  0.1492],\n",
              "                        [-0.0417,  0.0130,  0.0954, -0.0685, -0.0193],\n",
              "                        [-0.0323, -0.0069,  0.0687,  0.0204, -0.0151],\n",
              "                        [-0.1053, -0.0320, -0.0826,  0.0168, -0.1879],\n",
              "                        [ 0.0711, -0.0658,  0.0468, -0.0844, -0.0720]],\n",
              "              \n",
              "                       [[ 0.0590,  0.1499,  0.2165,  0.1412,  0.2411],\n",
              "                        [ 0.0471,  0.0673, -0.0049,  0.0754,  0.0571],\n",
              "                        [ 0.1322,  0.0009,  0.0101,  0.1094,  0.1862],\n",
              "                        [ 0.1415,  0.1822,  0.1361,  0.0949,  0.0401],\n",
              "                        [ 0.0738,  0.1578,  0.0798,  0.1343, -0.0224]]],\n",
              "              \n",
              "              \n",
              "                      [[[ 0.0635, -0.1933,  0.0941,  0.1003,  0.0583],\n",
              "                        [ 0.2172,  0.2787,  0.3170,  0.4535,  0.3490],\n",
              "                        [ 0.1399,  0.0042,  0.2006,  0.3291,  0.0401],\n",
              "                        [-0.2436, -0.1035,  0.0711, -0.1155, -0.2144],\n",
              "                        [-0.2240, -0.2351, -0.1554, -0.3698, -0.2332]],\n",
              "              \n",
              "                       [[-0.1774, -0.2664,  0.0509,  0.0328, -0.0651],\n",
              "                        [ 0.0892,  0.2329,  0.4454,  0.0860, -0.0672],\n",
              "                        [-0.0483,  0.1248,  0.2461,  0.0293, -0.2480],\n",
              "                        [-0.2300, -0.2574, -0.0752, -0.2156, -0.2823],\n",
              "                        [-0.0686, -0.1882,  0.0657, -0.1482, -0.2306]],\n",
              "              \n",
              "                       [[-0.0714, -0.2813,  0.0823, -0.1539,  0.0835],\n",
              "                        [ 0.1322,  0.1578,  0.2629,  0.0308,  0.0264],\n",
              "                        [-0.0067, -0.0316,  0.1900, -0.0608,  0.0482],\n",
              "                        [-0.0237, -0.1809,  0.1265,  0.0134, -0.0008],\n",
              "                        [-0.0187, -0.0339,  0.1114,  0.0051,  0.0566]]],\n",
              "              \n",
              "              \n",
              "                      [[[ 0.1893, -0.1110,  0.0975,  0.0843,  0.0826],\n",
              "                        [-0.1694, -0.1617,  0.1392,  0.2878, -0.0433],\n",
              "                        [-0.3070, -0.2568,  0.2297,  0.3444,  0.0262],\n",
              "                        [-0.3599, -0.1392,  0.3621,  0.2200,  0.0097],\n",
              "                        [-0.2680, -0.1741,  0.2866,  0.1356, -0.0457]],\n",
              "              \n",
              "                       [[-0.1225, -0.1013, -0.0550, -0.0524, -0.0608],\n",
              "                        [-0.1950, -0.2291,  0.0412,  0.1838, -0.0226],\n",
              "                        [-0.3213, -0.3913,  0.0846,  0.2774,  0.0301],\n",
              "                        [-0.3363, -0.1948,  0.1398,  0.1519, -0.0431],\n",
              "                        [-0.1555, -0.2732,  0.1303,  0.1756, -0.0279]],\n",
              "              \n",
              "                       [[-0.1610, -0.1722,  0.0726,  0.2198,  0.0823],\n",
              "                        [-0.1513, -0.2149,  0.0880,  0.1749,  0.1653],\n",
              "                        [-0.2961, -0.2103,  0.1943,  0.4104,  0.0572],\n",
              "                        [-0.3372, -0.2490,  0.2627,  0.3722,  0.1080],\n",
              "                        [-0.1955, -0.0263,  0.2887,  0.2643, -0.0295]]],\n",
              "              \n",
              "              \n",
              "                      [[[-0.0368,  0.0762, -0.0663, -0.0043,  0.0811],\n",
              "                        [-0.0424, -0.0925,  0.0022,  0.0391,  0.0108],\n",
              "                        [ 0.0567, -0.0872,  0.0437, -0.0053,  0.0253],\n",
              "                        [ 0.2096, -0.0045, -0.0159,  0.0819,  0.1450],\n",
              "                        [ 0.0669,  0.1122,  0.1148,  0.0345,  0.0137]],\n",
              "              \n",
              "                       [[-0.1993, -0.0151,  0.0906,  0.1518,  0.0845],\n",
              "                        [-0.0939, -0.1319, -0.1451, -0.0627, -0.0668],\n",
              "                        [-0.1083, -0.1353, -0.2448, -0.1667, -0.0272],\n",
              "                        [-0.2624, -0.1095, -0.2326, -0.2015, -0.2082],\n",
              "                        [-0.2039, -0.1845, -0.2704, -0.3037, -0.2285]],\n",
              "              \n",
              "                       [[ 0.0624, -0.0093,  0.1520,  0.1371,  0.1604],\n",
              "                        [-0.0148, -0.0121, -0.0358, -0.0449,  0.1445],\n",
              "                        [-0.0490,  0.0125, -0.0832,  0.0304,  0.0841],\n",
              "                        [ 0.0225, -0.1364, -0.0302, -0.1855,  0.0101],\n",
              "                        [ 0.1733, -0.0118, -0.0786, -0.0847, -0.0778]]]], device='cuda:0')),\n",
              "             ('conv1.bias',\n",
              "              tensor([ 0.5934,  0.6264,  0.6238, -0.1826,  0.1591,  0.1396], device='cuda:0')),\n",
              "             ('conv2.weight',\n",
              "              tensor([[[[-7.9880e-02, -9.5831e-02, -8.1582e-02, -1.0848e-01, -7.7899e-02],\n",
              "                        [-1.0654e-01, -7.7147e-02, -9.2924e-02, -7.2440e-02, -1.2764e-01],\n",
              "                        [ 3.8333e-02,  5.7550e-02,  8.2732e-02, -2.0324e-02, -6.6085e-02],\n",
              "                        [ 7.3441e-02,  1.4608e-02, -2.0476e-02, -9.3808e-03,  2.5244e-02],\n",
              "                        [ 1.6572e-02,  2.3685e-02,  1.1170e-01,  7.8310e-02,  1.0590e-01]],\n",
              "              \n",
              "                       [[ 1.0596e-01,  6.7732e-02,  8.8846e-02, -7.8143e-02,  1.4476e-01],\n",
              "                        [ 1.1558e-01,  7.7032e-02,  1.8055e-01,  5.0053e-03,  1.2664e-01],\n",
              "                        [ 1.6102e-02, -1.6972e-02,  1.5780e-01,  7.9396e-02,  9.8217e-02],\n",
              "                        [-4.0832e-02, -1.1999e-01, -6.6512e-02, -1.3781e-01, -1.7374e-01],\n",
              "                        [-4.1276e-02, -9.2060e-02, -6.4722e-02, -8.8748e-03, -1.6779e-01]],\n",
              "              \n",
              "                       [[-4.3767e-02,  3.3278e-02, -7.3094e-03, -1.4663e-03, -4.3642e-03],\n",
              "                        [ 4.7770e-05,  1.0115e-01,  1.0255e-01, -2.8903e-02,  9.7365e-02],\n",
              "                        [ 1.3829e-01,  1.0162e-01,  1.7378e-01,  1.1530e-01,  2.9002e-03],\n",
              "                        [ 3.4638e-02,  2.0051e-02,  1.1792e-01, -2.3688e-03, -1.2035e-01],\n",
              "                        [-2.5729e-03,  8.6627e-02,  6.5473e-02,  5.1127e-04, -1.0687e-01]],\n",
              "              \n",
              "                       [[ 1.0283e-01, -3.3408e-02, -5.0388e-02,  2.7356e-02, -5.5434e-02],\n",
              "                        [ 1.7378e-01, -2.3862e-02,  1.0321e-01,  7.2066e-02, -3.7819e-02],\n",
              "                        [ 5.0741e-02,  5.3826e-02,  1.8952e-01,  2.2112e-02,  9.2899e-02],\n",
              "                        [ 1.8280e-02, -1.4026e-02,  1.6749e-01, -5.4422e-02,  7.5836e-02],\n",
              "                        [-3.4993e-02,  6.6800e-02,  2.1147e-02, -2.0914e-02,  1.6529e-02]],\n",
              "              \n",
              "                       [[ 7.4086e-02, -7.6775e-02, -5.9815e-03, -3.0131e-02, -3.9843e-02],\n",
              "                        [-1.2252e-01, -5.4805e-02,  5.4092e-02, -1.2468e-01,  1.0331e-01],\n",
              "                        [-1.4986e-01, -1.2862e-02, -5.8662e-02, -1.6776e-01,  7.4788e-02],\n",
              "                        [-1.7443e-01,  1.2685e-01, -8.9718e-02, -8.2691e-02,  2.1079e-01],\n",
              "                        [-1.9478e-01,  1.4762e-01,  2.1073e-02, -6.6769e-02,  1.4787e-01]],\n",
              "              \n",
              "                       [[ 1.8000e-02, -8.1873e-02, -5.0790e-02, -2.5654e-02,  3.2773e-03],\n",
              "                        [ 1.3660e-02, -7.3017e-04,  3.9352e-02,  5.4870e-02,  8.6899e-02],\n",
              "                        [-7.7924e-02, -7.6617e-02, -1.0717e-01, -4.5201e-03, -4.0728e-03],\n",
              "                        [-6.0812e-02,  7.5892e-03, -7.1873e-02,  4.0853e-02,  5.2145e-02],\n",
              "                        [ 2.2781e-02, -9.2458e-02, -1.0694e-01,  2.0059e-02,  3.0082e-02]]],\n",
              "              \n",
              "              \n",
              "                      [[[ 1.0091e-01,  4.4969e-02,  1.1117e-02,  1.1518e-01,  2.1052e-02],\n",
              "                        [ 5.6358e-02, -3.8731e-02, -6.2624e-02, -1.5708e-02, -2.2965e-02],\n",
              "                        [-4.6184e-02, -4.5843e-02, -2.2319e-02, -6.3381e-02, -4.8115e-02],\n",
              "                        [ 2.2907e-02, -8.2690e-02, -4.6572e-02, -5.1447e-02, -2.2765e-03],\n",
              "                        [ 8.7343e-02, -1.3400e-02,  6.5645e-02,  2.9118e-02, -4.8699e-02]],\n",
              "              \n",
              "                       [[-1.0085e-01, -7.8376e-02, -6.1398e-02, -7.9579e-02, -1.1465e-01],\n",
              "                        [-1.1750e-01, -4.5572e-02, -1.3081e-01, -1.4634e-01, -1.7407e-01],\n",
              "                        [-6.9727e-02, -1.2516e-01,  1.5124e-02, -1.4659e-02, -1.9272e-02],\n",
              "                        [ 4.2778e-02, -1.1556e-02,  2.1148e-02, -5.0862e-02,  5.9214e-02],\n",
              "                        [ 5.5918e-02, -1.1412e-02,  6.1054e-02,  6.9152e-02,  3.4240e-02]],\n",
              "              \n",
              "                       [[-1.1897e-01, -5.9271e-02,  5.0464e-02,  1.4811e-02,  9.3601e-02],\n",
              "                        [-1.9564e-01,  4.5756e-02,  7.9274e-02,  3.5456e-02, -2.0296e-02],\n",
              "                        [-1.2803e-01, -2.5337e-02,  3.5272e-02,  5.2866e-02,  7.3744e-02],\n",
              "                        [ 3.4827e-02,  1.7005e-02,  6.7746e-02,  1.1782e-01,  2.0942e-01],\n",
              "                        [-9.0003e-02, -1.6494e-02,  5.4616e-02,  4.1755e-02,  1.1634e-01]],\n",
              "              \n",
              "                       [[-5.5541e-02, -5.2861e-02,  7.5649e-03, -9.0391e-02, -6.2802e-02],\n",
              "                        [ 1.2728e-01,  5.3181e-02,  9.4919e-02, -9.0354e-02, -8.3871e-02],\n",
              "                        [ 3.1594e-02, -3.6338e-02,  4.4757e-02,  2.9285e-02,  7.1691e-02],\n",
              "                        [-6.5819e-02, -9.8882e-02, -6.9413e-02, -8.9202e-02, -2.9360e-02],\n",
              "                        [-1.6652e-01, -1.0315e-01, -9.9813e-02, -4.2390e-02, -5.9742e-02]],\n",
              "              \n",
              "                       [[ 1.9005e-01,  1.5951e-01,  1.4957e-01, -9.8637e-02, -8.3590e-02],\n",
              "                        [ 1.2382e-01,  1.0363e-01,  2.5158e-02, -1.7406e-01, -1.0917e-01],\n",
              "                        [ 1.0001e-01,  3.2674e-02, -8.3683e-02, -2.0301e-01, -1.3018e-01],\n",
              "                        [ 1.4455e-01, -1.4580e-02,  7.5239e-03, -1.4894e-01, -1.5236e-01],\n",
              "                        [ 1.1332e-01, -3.8877e-02, -8.2619e-02, -1.5202e-01, -1.2336e-01]],\n",
              "              \n",
              "                       [[-8.7752e-02,  1.1900e-02,  1.6310e-02, -2.1656e-03, -3.9778e-02],\n",
              "                        [-6.9863e-02,  5.2027e-02,  7.8300e-02, -6.3709e-02,  8.7632e-02],\n",
              "                        [ 4.3487e-02, -2.6279e-03,  4.2319e-02,  7.4099e-02,  2.6977e-02],\n",
              "                        [ 5.5782e-02,  8.7076e-02,  1.1274e-01,  1.1953e-01,  1.3214e-01],\n",
              "                        [ 3.4863e-02,  9.3217e-02,  1.3050e-01,  9.3369e-02,  6.3797e-02]]],\n",
              "              \n",
              "              \n",
              "                      [[[-1.7595e-02, -5.2658e-02,  2.4625e-02,  7.0189e-03, -4.0510e-02],\n",
              "                        [-7.3817e-02, -5.3551e-02,  1.2311e-01,  5.9420e-02,  3.9135e-02],\n",
              "                        [-7.8537e-02,  4.5843e-02,  9.4422e-02,  1.0554e-01,  6.0575e-02],\n",
              "                        [-7.6603e-02,  2.8542e-02, -8.1147e-02, -2.9725e-02,  1.6663e-01],\n",
              "                        [-6.0567e-02, -6.7880e-02,  2.8465e-02,  2.8224e-02,  1.8357e-01]],\n",
              "              \n",
              "                       [[ 2.3255e-01,  2.2384e-01,  1.1645e-01,  2.4406e-01,  2.2338e-01],\n",
              "                        [ 1.4417e-01,  1.0195e-01,  1.3617e-01,  7.0087e-03,  6.7888e-02],\n",
              "                        [ 4.8794e-02, -1.7990e-02, -5.5030e-03, -5.7516e-02,  3.1310e-03],\n",
              "                        [-1.2529e-01, -9.6761e-02, -2.3983e-02, -1.7274e-01, -6.9937e-02],\n",
              "                        [-8.8391e-02, -3.8246e-02, -8.0765e-02, -9.6853e-03, -6.9699e-02]],\n",
              "              \n",
              "                       [[-8.7185e-02,  1.8880e-02, -7.3450e-02, -1.3963e-01, -1.1948e-01],\n",
              "                        [ 1.3114e-01,  7.6490e-02, -1.8362e-02, -7.6441e-02, -2.4519e-02],\n",
              "                        [-4.4185e-03, -3.7921e-02,  6.3306e-02,  3.3670e-02, -1.0270e-01],\n",
              "                        [ 2.5029e-02, -1.1624e-02, -4.2580e-03, -1.7052e-02, -1.3446e-01],\n",
              "                        [-4.3235e-02,  4.4594e-03, -4.4692e-02,  4.3445e-02, -5.7978e-02]],\n",
              "              \n",
              "                       [[ 4.8781e-02,  4.9424e-02, -4.0385e-02,  4.7067e-02, -2.8305e-02],\n",
              "                        [ 7.7170e-02, -3.5674e-03,  9.1873e-02,  6.3064e-02, -5.4602e-02],\n",
              "                        [ 6.2845e-02,  5.2753e-02, -1.9085e-02, -5.2695e-03, -6.4139e-02],\n",
              "                        [-1.2242e-02,  1.1814e-02,  1.0496e-01,  2.5982e-02, -7.6987e-02],\n",
              "                        [-4.9963e-02, -1.0690e-02, -3.6721e-02, -5.9651e-02, -6.0107e-02]],\n",
              "              \n",
              "                       [[ 1.5595e-01,  2.0075e-01,  8.1854e-02,  6.7497e-02,  2.3753e-02],\n",
              "                        [ 5.8382e-02,  7.6040e-02, -3.6700e-02,  2.4639e-02,  5.3824e-03],\n",
              "                        [-3.3281e-02, -4.7426e-03, -9.0327e-02, -2.5283e-02,  3.1773e-02],\n",
              "                        [ 2.3192e-02, -1.2205e-01, -1.2551e-01, -3.5491e-02,  7.1041e-02],\n",
              "                        [-1.5910e-01, -1.4561e-01, -2.0192e-01, -1.6641e-01, -1.1744e-01]],\n",
              "              \n",
              "                       [[ 7.8514e-02,  1.3706e-01,  5.1926e-02,  1.1171e-01,  7.1627e-02],\n",
              "                        [ 3.7147e-03,  9.1181e-02, -1.4300e-02,  6.6166e-02,  6.4612e-02],\n",
              "                        [ 4.5977e-02, -7.9710e-02, -1.2050e-01, -1.1246e-01, -1.2328e-01],\n",
              "                        [ 2.4909e-02,  1.2949e-03, -4.2088e-02, -1.4648e-01, -1.7914e-01],\n",
              "                        [-3.4941e-02, -3.1992e-02, -1.0802e-03, -6.1176e-02, -1.6221e-01]]],\n",
              "              \n",
              "              \n",
              "                      ...,\n",
              "              \n",
              "              \n",
              "                      [[[-2.1108e-02,  1.2022e-01,  3.1392e-02,  2.1190e-02,  9.4075e-02],\n",
              "                        [-2.4193e-03,  9.2054e-02,  1.0161e-01, -4.2577e-04, -3.9248e-02],\n",
              "                        [ 2.3474e-02, -4.3854e-02,  8.3107e-02, -5.7048e-02, -5.7446e-02],\n",
              "                        [ 1.0928e-01, -3.7326e-02,  8.9932e-02,  3.6644e-02, -1.2108e-01],\n",
              "                        [ 4.1293e-02,  7.5584e-03, -8.2822e-02,  3.6456e-02, -6.8193e-02]],\n",
              "              \n",
              "                       [[ 1.3898e-01, -6.3458e-02,  1.1332e-01, -4.0784e-02,  5.0842e-02],\n",
              "                        [ 1.5501e-01, -4.2557e-02,  1.3272e-01,  4.9545e-02, -2.5250e-02],\n",
              "                        [ 6.3148e-02,  7.4161e-02,  1.8742e-01,  3.5898e-02,  1.0401e-01],\n",
              "                        [-4.1129e-02,  7.2415e-03,  1.2087e-01,  1.2497e-02,  1.1481e-01],\n",
              "                        [-1.0648e-03,  8.9130e-02,  1.3128e-01,  1.9667e-01,  1.8003e-01]],\n",
              "              \n",
              "                       [[-4.8183e-02, -1.7691e-01, -7.3481e-02,  4.5472e-02,  2.0889e-02],\n",
              "                        [-7.9468e-02, -1.1949e-01, -7.1992e-02, -9.2702e-02, -3.0387e-02],\n",
              "                        [-1.4217e-01, -7.4488e-02, -9.3374e-02, -1.8907e-02, -2.6169e-02],\n",
              "                        [-2.2575e-01, -6.7266e-02, -6.9734e-02, -9.3311e-02, -6.8561e-02],\n",
              "                        [-2.2478e-01, -1.2291e-01, -1.2598e-01, -1.6405e-02, -4.5252e-02]],\n",
              "              \n",
              "                       [[-4.5352e-02,  2.0569e-02,  7.2973e-02, -1.7538e-02,  3.7965e-02],\n",
              "                        [-8.4061e-02,  2.5668e-02, -4.8903e-02, -1.1006e-01,  9.3986e-02],\n",
              "                        [ 2.6444e-02, -1.3038e-01, -1.3012e-01,  3.8025e-02, -1.4162e-03],\n",
              "                        [-1.1195e-01, -1.2245e-01,  5.6301e-02, -8.9607e-02, -2.8654e-02],\n",
              "                        [-8.5773e-02, -2.0533e-02,  8.2103e-04, -5.5795e-02,  9.9401e-02]],\n",
              "              \n",
              "                       [[ 1.2608e-01,  1.6118e-01, -4.7509e-02,  6.2409e-02,  2.8216e-02],\n",
              "                        [ 9.2727e-02, -5.3568e-02,  6.7928e-02,  4.8688e-02,  8.6578e-03],\n",
              "                        [ 5.9824e-02, -1.7680e-01,  2.4680e-01,  2.3018e-03, -4.8714e-02],\n",
              "                        [-4.9586e-02, -6.5714e-02,  2.1129e-01, -1.6574e-01,  4.7347e-02],\n",
              "                        [-1.3431e-01,  6.6010e-02,  1.4017e-01, -3.5221e-02,  1.0147e-02]],\n",
              "              \n",
              "                       [[-5.0071e-02, -1.0211e-01,  5.7701e-02, -1.7903e-02,  3.0762e-02],\n",
              "                        [-9.3647e-03, -5.8766e-02, -4.8148e-02, -3.6133e-02, -5.9576e-02],\n",
              "                        [-1.1388e-01, -1.9600e-02,  3.7654e-02,  5.4113e-03, -1.4191e-02],\n",
              "                        [-1.3768e-01,  2.4347e-02, -7.0990e-02,  1.8218e-02,  2.3201e-02],\n",
              "                        [ 1.8684e-02, -4.0424e-02,  1.9634e-02,  9.5285e-02,  1.5936e-01]]],\n",
              "              \n",
              "              \n",
              "                      [[[ 9.3429e-03, -4.9776e-02, -2.2218e-04,  6.8594e-02,  1.6235e-02],\n",
              "                        [-1.8366e-02, -4.6973e-02,  6.0814e-02,  6.3601e-02,  1.3714e-01],\n",
              "                        [-4.5357e-02,  3.6015e-02,  5.0712e-02,  1.3828e-01,  8.4608e-02],\n",
              "                        [ 4.2745e-02, -3.1199e-02,  1.6145e-01,  2.0416e-01,  1.1608e-01],\n",
              "                        [ 2.1167e-03,  8.3474e-02,  1.1861e-01,  1.6738e-01,  2.0850e-01]],\n",
              "              \n",
              "                       [[-5.5841e-02, -9.9563e-02, -1.4703e-01, -4.3947e-02,  5.8367e-02],\n",
              "                        [-1.5195e-01, -8.7749e-02, -4.9289e-02,  5.2987e-02, -4.1487e-03],\n",
              "                        [-1.3842e-01, -5.6855e-02,  4.4942e-02, -3.5645e-02, -6.7699e-02],\n",
              "                        [-4.8778e-02, -2.0175e-02, -1.1739e-01, -4.1976e-02,  1.1062e-01],\n",
              "                        [-1.0245e-01, -1.2061e-01, -1.4735e-01, -3.4973e-02,  6.0119e-02]],\n",
              "              \n",
              "                       [[ 4.0410e-02, -1.6030e-03, -5.5831e-02, -2.0588e-04, -4.2135e-02],\n",
              "                        [ 3.2337e-02, -6.1783e-02, -5.9200e-02, -4.7869e-02,  6.7226e-02],\n",
              "                        [-9.8673e-02,  4.9026e-02, -3.3249e-02,  3.2982e-02,  5.8121e-02],\n",
              "                        [ 5.7295e-02,  9.8775e-02,  2.9362e-02,  7.8207e-02,  1.1228e-01],\n",
              "                        [ 2.4824e-01,  1.1620e-01,  2.0773e-01,  1.3527e-01,  2.5589e-01]],\n",
              "              \n",
              "                       [[-1.9530e-02,  8.3658e-02, -3.2362e-02, -4.3038e-02, -9.3342e-02],\n",
              "                        [ 5.1203e-02, -1.1713e-01, -1.2486e-01, -3.7821e-02, -6.0009e-02],\n",
              "                        [-5.3674e-02, -1.7054e-01, -1.1889e-01, -2.0974e-02,  4.0342e-02],\n",
              "                        [-1.0479e-01, -1.5530e-01, -3.4993e-02, -2.7085e-02, -2.2612e-02],\n",
              "                        [-4.9916e-02, -1.1390e-01,  8.9534e-03,  4.7863e-02,  4.6560e-02]],\n",
              "              \n",
              "                       [[-4.8348e-02,  5.5167e-03, -2.8417e-02, -8.1135e-02,  6.3916e-02],\n",
              "                        [-2.4425e-02, -1.8993e-02,  1.8955e-02,  7.8147e-02,  9.5538e-02],\n",
              "                        [-1.2286e-01, -5.3811e-02,  8.8737e-02,  1.5427e-01,  8.0402e-02],\n",
              "                        [ 7.1557e-02, -2.2673e-02,  3.0066e-02, -4.0938e-02, -3.3086e-02],\n",
              "                        [ 5.0801e-02,  3.9025e-02, -1.0336e-02, -4.2344e-02, -1.8841e-02]],\n",
              "              \n",
              "                       [[ 2.1126e-02,  1.5021e-04,  8.5511e-03,  9.6974e-04,  6.9831e-02],\n",
              "                        [ 9.9566e-02, -8.6941e-03,  7.3165e-02,  9.4736e-02,  4.0655e-02],\n",
              "                        [-1.5058e-02,  6.4580e-02, -5.7790e-02, -3.4509e-02,  8.2042e-02],\n",
              "                        [-5.8082e-03,  2.7909e-02,  5.2214e-02, -3.6207e-02, -4.1179e-02],\n",
              "                        [ 5.1122e-02,  3.0369e-02, -1.1478e-02, -2.3660e-02, -6.8645e-02]]],\n",
              "              \n",
              "              \n",
              "                      [[[-5.8851e-02, -2.4108e-02, -9.3908e-03, -2.9506e-02,  1.5155e-01],\n",
              "                        [-1.2530e-01,  2.6534e-02,  7.9822e-02, -4.8098e-02,  3.8020e-02],\n",
              "                        [-1.0478e-01,  8.8514e-02,  6.9084e-02, -1.7806e-02, -8.2893e-02],\n",
              "                        [-1.2642e-01, -3.1793e-02,  4.0625e-02,  2.1767e-02, -1.2404e-02],\n",
              "                        [-1.2433e-01, -1.9065e-01, -1.3588e-01,  4.3264e-02, -4.5924e-02]],\n",
              "              \n",
              "                       [[-3.8783e-02,  4.4179e-02, -8.2112e-02, -1.0299e-01, -1.9061e-01],\n",
              "                        [ 1.3763e-01,  1.1116e-01,  1.5646e-02,  1.6586e-02, -1.4171e-02],\n",
              "                        [ 2.4989e-02, -3.5151e-02,  1.4149e-02,  8.3734e-02, -3.2565e-02],\n",
              "                        [-1.6978e-02,  2.9577e-02, -1.7464e-02,  2.8124e-02,  6.8999e-02],\n",
              "                        [ 7.1957e-02,  3.3423e-02, -1.1844e-02, -5.5658e-02, -1.8913e-02]],\n",
              "              \n",
              "                       [[ 2.0966e-02, -1.0257e-02,  1.3187e-01,  2.7434e-02,  1.1599e-01],\n",
              "                        [ 7.8680e-02,  7.0743e-02,  8.8653e-02,  7.9061e-02,  1.2051e-01],\n",
              "                        [-3.3707e-02,  2.6486e-02, -3.2538e-02,  4.2288e-02,  1.3014e-01],\n",
              "                        [-1.3183e-02,  3.7885e-02,  5.5033e-02,  2.5602e-02,  3.4501e-02],\n",
              "                        [ 1.4648e-02,  8.5810e-02,  2.1653e-02, -7.7314e-03,  5.2183e-02]],\n",
              "              \n",
              "                       [[-6.7581e-02,  1.4935e-02, -6.6696e-02, -2.7533e-02,  7.6883e-03],\n",
              "                        [ 8.9127e-03, -1.5226e-01, -9.6960e-02, -9.7118e-02,  6.3824e-02],\n",
              "                        [ 5.1730e-02, -3.5664e-02, -8.3408e-02,  4.5233e-02,  9.5593e-02],\n",
              "                        [-2.0221e-01, -4.3518e-02,  1.0281e-01, -4.2531e-02, -1.0354e-01],\n",
              "                        [-1.6906e-01, -1.2974e-01,  5.9536e-02,  1.9211e-01,  2.3216e-01]],\n",
              "              \n",
              "                       [[-4.9481e-02, -1.4801e-01, -6.1379e-02, -9.5801e-02, -3.2643e-02],\n",
              "                        [ 1.2284e-01, -3.6782e-02, -1.3624e-01,  9.6034e-03,  7.7720e-02],\n",
              "                        [-1.2323e-02,  4.0208e-02, -1.1951e-02, -8.9584e-02, -4.4323e-02],\n",
              "                        [-7.0421e-02,  1.8426e-02,  1.1490e-01,  6.0189e-02, -5.3087e-02],\n",
              "                        [-1.9710e-01,  1.0342e-02,  1.4507e-01,  1.8949e-01,  3.0084e-02]],\n",
              "              \n",
              "                       [[ 2.6995e-02, -1.9383e-02, -4.1566e-02, -3.8114e-02, -3.2492e-02],\n",
              "                        [-8.2518e-02, -3.8320e-02, -2.5389e-02, -3.5110e-03, -6.7261e-02],\n",
              "                        [ 8.8735e-02, -1.0305e-01, -3.5242e-02, -4.5869e-02,  1.2838e-02],\n",
              "                        [ 9.9099e-02,  7.9156e-02, -3.4601e-02, -1.2182e-01, -8.6725e-02],\n",
              "                        [ 4.1860e-02,  1.2342e-01,  1.4863e-01,  3.1696e-02,  3.4501e-02]]]],\n",
              "                     device='cuda:0')),\n",
              "             ('conv2.bias',\n",
              "              tensor([-0.1533,  0.1145, -0.1150,  0.0278, -0.0392,  0.0922, -0.1694,  0.2075,\n",
              "                      -0.3315, -0.2033, -0.1469,  0.1697,  0.1669,  0.0562,  0.1875, -0.0557],\n",
              "                     device='cuda:0')),\n",
              "             ('fc1.weight',\n",
              "              tensor([[ 0.0412,  0.0112,  0.0157,  ..., -0.0774, -0.0187,  0.0462],\n",
              "                      [ 0.0892, -0.0158, -0.0649,  ...,  0.0149,  0.0563,  0.0547],\n",
              "                      [ 0.0363,  0.0950,  0.0481,  ...,  0.0245, -0.0233, -0.0698],\n",
              "                      ...,\n",
              "                      [ 0.0100, -0.0561, -0.0460,  ...,  0.0017,  0.0152,  0.1295],\n",
              "                      [-0.0477, -0.0372, -0.0431,  ...,  0.0251, -0.0095,  0.0303],\n",
              "                      [ 0.0260, -0.0282, -0.0643,  ..., -0.0586,  0.0173, -0.0136]],\n",
              "                     device='cuda:0')),\n",
              "             ('fc1.bias',\n",
              "              tensor([ 0.0456, -0.0037, -0.0536, -0.0300, -0.0217, -0.0331,  0.0236,  0.0702,\n",
              "                      -0.1158,  0.0082,  0.1382, -0.0717,  0.0846, -0.0062,  0.0360,  0.0509,\n",
              "                      -0.0156,  0.0676, -0.0432,  0.0105, -0.0149,  0.0183,  0.0098, -0.0133,\n",
              "                       0.0790,  0.0995,  0.0020,  0.1182,  0.0224, -0.0325, -0.1184, -0.0681,\n",
              "                       0.0799,  0.0677,  0.0825, -0.0559, -0.0864,  0.0684, -0.1061,  0.0405,\n",
              "                      -0.0401,  0.0015, -0.1033, -0.0494, -0.0109, -0.0315,  0.0768, -0.0772,\n",
              "                       0.0269,  0.0968, -0.0067,  0.0795,  0.0896, -0.0054,  0.0545,  0.0847,\n",
              "                      -0.0124,  0.1336, -0.0512,  0.0821, -0.0251,  0.0528, -0.0562,  0.0776,\n",
              "                       0.0119, -0.0390, -0.0502, -0.0537, -0.0127, -0.0017,  0.1077,  0.0411,\n",
              "                      -0.0210, -0.0287,  0.0613,  0.0589, -0.0483, -0.0665,  0.0022, -0.0238,\n",
              "                       0.0850,  0.0114,  0.0781,  0.0817,  0.0413,  0.0460, -0.0692,  0.0023,\n",
              "                       0.0245,  0.0593,  0.0263,  0.1028, -0.0065, -0.0490,  0.0357,  0.0531,\n",
              "                       0.0751, -0.0085,  0.0394, -0.0989, -0.0884, -0.0835,  0.0091,  0.0615,\n",
              "                      -0.0545,  0.1025, -0.0386,  0.0650,  0.0183, -0.0062,  0.1311,  0.0853,\n",
              "                       0.1251, -0.1107,  0.0370, -0.0214,  0.0452,  0.0627, -0.0496,  0.0276],\n",
              "                     device='cuda:0')),\n",
              "             ('fc2.weight',\n",
              "              tensor([[ 0.0354,  0.0390,  0.0941,  ...,  0.0949,  0.1195, -0.0584],\n",
              "                      [ 0.0903, -0.0444, -0.0323,  ..., -0.0283, -0.0780, -0.0812],\n",
              "                      [ 0.0885,  0.0021,  0.0063,  ..., -0.0203, -0.0369, -0.1471],\n",
              "                      ...,\n",
              "                      [ 0.0717, -0.0174, -0.1857,  ...,  0.0957, -0.0071,  0.0033],\n",
              "                      [ 0.0636,  0.0794, -0.0426,  ...,  0.0407,  0.0468,  0.0435],\n",
              "                      [ 0.0984, -0.0697, -0.1578,  ..., -0.0156,  0.0526,  0.0163]],\n",
              "                     device='cuda:0')),\n",
              "             ('fc2.bias',\n",
              "              tensor([-0.0611,  0.2296,  0.1711,  0.1100,  0.0627, -0.0026, -0.0672,  0.0528,\n",
              "                      -0.0339,  0.0867,  0.0073, -0.0117, -0.1503,  0.1399, -0.0769,  0.1153,\n",
              "                      -0.1577,  0.0493,  0.0211, -0.0395,  0.1008, -0.0383,  0.0970,  0.0925,\n",
              "                      -0.1027, -0.0064, -0.0797,  0.0290,  0.1574,  0.1499, -0.0804, -0.0530,\n",
              "                       0.1527, -0.0703,  0.1172,  0.0617, -0.0646, -0.0262, -0.1105, -0.0989,\n",
              "                      -0.1120,  0.0081,  0.1285,  0.1510,  0.0279,  0.1336, -0.0911,  0.0950,\n",
              "                      -0.0285, -0.0250,  0.1319,  0.0545,  0.1450,  0.0568,  0.1164,  0.0109,\n",
              "                       0.1138, -0.0143, -0.0186, -0.0716,  0.0721, -0.0242, -0.0465,  0.0421,\n",
              "                      -0.0642,  0.1810,  0.1035,  0.1044, -0.0576,  0.1463, -0.0098,  0.0224,\n",
              "                       0.1063, -0.0815, -0.1199, -0.1145,  0.0931,  0.0594,  0.0499, -0.0662,\n",
              "                       0.1661, -0.0078,  0.1612,  0.0741], device='cuda:0')),\n",
              "             ('fc3.weight',\n",
              "              tensor([[-8.0150e-02, -1.3291e-02,  9.1052e-02,  9.0208e-02, -1.5941e-01,\n",
              "                        1.3149e-01, -3.8200e-03, -1.7447e-02, -9.3866e-02,  9.1344e-02,\n",
              "                       -2.6138e-02,  7.2170e-02, -1.1516e-01, -9.6955e-02,  6.6944e-02,\n",
              "                       -1.6289e-02,  3.1168e-01,  3.9447e-02,  1.4309e-01,  6.9849e-02,\n",
              "                       -2.7528e-01,  3.1219e-01,  1.1592e-01, -1.5934e-01, -2.1268e-01,\n",
              "                       -5.8668e-02,  1.9290e-01, -1.2677e-02, -1.7985e-01,  1.0743e-01,\n",
              "                        1.1135e-01,  1.4461e-01,  9.2069e-02, -2.5822e-02, -1.6443e-01,\n",
              "                       -5.0236e-02,  1.9963e-01,  1.4848e-01, -7.4994e-02, -1.1968e-01,\n",
              "                        9.5628e-02,  1.9848e-01, -1.0705e-01, -1.0138e-01, -6.7186e-02,\n",
              "                        3.8375e-02,  5.4273e-02,  1.7577e-01, -8.3962e-02,  8.4084e-02,\n",
              "                       -1.5287e-01,  1.1775e-01, -1.7669e-01, -1.8672e-01, -5.8705e-03,\n",
              "                       -1.6938e-01,  6.1460e-02, -2.4780e-01, -6.1756e-02, -1.8835e-01,\n",
              "                        2.4085e-01,  7.3294e-02, -7.5081e-02,  7.6768e-02,  6.0178e-02,\n",
              "                        3.1070e-01, -2.9766e-01,  6.4638e-02,  2.3749e-01, -1.0532e-01,\n",
              "                        2.0140e-01,  4.5519e-02, -7.6631e-02, -7.8673e-03,  8.3289e-02,\n",
              "                       -9.8368e-02,  1.8127e-01, -4.0363e-02, -6.2650e-02, -2.1985e-01,\n",
              "                       -1.0999e-01, -2.4667e-01,  1.6722e-01,  5.1443e-02],\n",
              "                      [-4.6307e-02, -3.3621e-02, -6.9557e-02,  1.6953e-01, -2.3155e-01,\n",
              "                        2.7204e-01, -7.3167e-03, -1.7655e-01, -2.7786e-01, -2.3601e-01,\n",
              "                        8.0693e-02,  2.1654e-04,  4.3274e-02, -7.0628e-02,  7.3300e-02,\n",
              "                       -2.4083e-01,  1.1447e-01, -6.8249e-02, -1.8816e-01,  1.5576e-02,\n",
              "                        1.2823e-01, -4.1266e-02, -8.7021e-02, -1.2705e-01,  2.6960e-01,\n",
              "                       -5.0010e-02, -2.5711e-01, -1.1008e-01, -2.8245e-01, -9.0827e-02,\n",
              "                       -1.4126e-01, -2.5614e-02, -2.7692e-01,  8.3544e-02, -3.6391e-02,\n",
              "                        1.0446e-01,  9.7244e-03,  3.7656e-02,  8.4683e-02,  1.2740e-01,\n",
              "                       -5.6545e-02, -3.2068e-01,  4.7505e-02, -1.9025e-01,  1.9119e-01,\n",
              "                       -2.1921e-01,  1.6076e-01, -1.1192e-01, -1.4054e-01,  8.1940e-02,\n",
              "                       -6.3753e-02,  3.2789e-01, -5.4573e-02, -8.4967e-02, -8.7284e-02,\n",
              "                        7.9089e-02, -1.1259e-01,  1.4339e-01, -1.8819e-02, -6.6596e-03,\n",
              "                       -2.5069e-01, -5.6974e-02,  3.1077e-01, -4.7493e-03, -7.1937e-02,\n",
              "                       -8.9209e-02,  4.0257e-02,  2.1924e-01, -7.6643e-02,  1.4909e-01,\n",
              "                        1.8240e-01, -8.4200e-02,  4.7112e-02, -1.4639e-01,  1.0725e-01,\n",
              "                       -8.1742e-02, -2.5481e-01, -1.9318e-01,  5.8089e-02,  1.9795e-01,\n",
              "                       -5.7602e-02,  3.6986e-02, -1.5011e-01,  6.7455e-03],\n",
              "                      [-1.7939e-01, -2.9973e-02,  2.7104e-02, -3.0370e-01,  4.9053e-02,\n",
              "                        3.2121e-02,  2.4379e-01,  3.5219e-02,  2.0734e-01,  2.9205e-01,\n",
              "                       -1.1406e-01, -1.1388e-01,  1.7376e-01, -1.0496e-01, -1.9061e-02,\n",
              "                        1.6723e-01,  2.3695e-02, -1.3588e-01, -1.9588e-01,  2.0752e-02,\n",
              "                        1.3154e-01, -1.7261e-01,  1.0940e-01, -1.0574e-01,  1.1487e-01,\n",
              "                        8.8470e-02,  9.4624e-02, -3.4757e-02,  1.1522e-01,  1.3184e-01,\n",
              "                        2.5609e-01, -1.8090e-01, -1.0323e-01, -1.4744e-01, -1.1006e-01,\n",
              "                        8.6863e-02,  7.6001e-02, -5.0218e-02,  5.3013e-02,  8.8773e-02,\n",
              "                       -8.0756e-02, -7.3419e-04,  4.3694e-03,  2.5798e-01, -1.0486e-02,\n",
              "                        1.2236e-01,  9.3610e-02,  1.8833e-01, -8.1772e-02,  7.3773e-02,\n",
              "                        2.8755e-02,  1.4131e-01,  1.4711e-01,  9.8756e-02,  1.0230e-01,\n",
              "                       -1.0978e-01,  3.5149e-01, -1.1906e-01, -1.6654e-01,  4.9197e-02,\n",
              "                        7.7741e-02,  5.9358e-02, -3.1075e-01, -2.0959e-01,  9.3825e-02,\n",
              "                        6.2014e-03, -2.4205e-02,  1.3859e-01,  2.2416e-01, -8.7490e-02,\n",
              "                       -1.1218e-01, -5.8497e-02, -1.3920e-01,  7.4290e-02,  1.1152e-01,\n",
              "                        5.9714e-02, -1.1780e-01,  1.3367e-01,  5.3116e-02, -7.4850e-02,\n",
              "                       -5.9276e-02, -1.2595e-01,  2.0416e-01,  3.6016e-03],\n",
              "                      [-1.1714e-01, -7.3757e-02, -1.1211e-02, -1.4533e-01,  8.0303e-02,\n",
              "                       -1.0721e-02, -1.3384e-01,  1.9839e-01,  1.5845e-01,  7.2079e-02,\n",
              "                       -4.6881e-02,  4.5842e-02,  1.2115e-01, -1.3800e-01, -1.0572e-01,\n",
              "                        6.2616e-02, -1.0479e-01,  2.1366e-02, -4.0535e-03, -5.5689e-02,\n",
              "                       -1.3653e-02, -7.6998e-02, -7.8669e-02,  6.8979e-02,  6.2435e-02,\n",
              "                        2.1056e-01, -2.5602e-01, -6.5866e-02, -1.5323e-02, -2.7464e-01,\n",
              "                       -1.5279e-01,  4.3208e-02,  1.6570e-01, -6.7617e-02,  6.0691e-02,\n",
              "                       -1.2250e-01, -4.7936e-02, -1.9744e-01,  1.2138e-01, -5.3091e-02,\n",
              "                       -8.0052e-02, -5.3170e-02,  1.1991e-01,  1.4984e-02,  1.3746e-01,\n",
              "                        3.9420e-03, -1.6979e-01, -1.2904e-01,  8.7554e-02,  1.7937e-01,\n",
              "                       -4.7680e-02, -7.6308e-02,  4.9888e-02, -1.1695e-01,  1.0588e-01,\n",
              "                        2.5830e-02, -8.8428e-02,  2.4196e-01,  5.8975e-02,  5.7149e-03,\n",
              "                       -3.0453e-02,  5.2089e-02,  2.5780e-02,  8.7178e-03,  1.3798e-01,\n",
              "                       -6.8429e-02, -1.5277e-01, -1.6262e-01, -9.6460e-02, -1.2583e-01,\n",
              "                        3.5145e-02, -1.5028e-01,  1.4563e-01, -1.0416e-01, -9.7176e-02,\n",
              "                       -8.2505e-02,  1.4855e-01, -1.5933e-02, -1.8695e-01, -1.5532e-02,\n",
              "                       -7.7845e-02, -6.3110e-02,  1.8440e-01, -3.0375e-01],\n",
              "                      [-7.3090e-02,  2.1234e-01, -2.1481e-01,  4.1118e-02,  1.2127e-01,\n",
              "                        1.8578e-02, -8.5830e-02,  1.4727e-01,  2.8317e-03, -9.8795e-03,\n",
              "                       -1.7923e-01, -2.6582e-01, -1.0531e-01,  6.7483e-02, -2.6432e-02,\n",
              "                       -2.9602e-01, -1.0256e-01, -1.5184e-01, -8.0719e-02, -1.8591e-01,\n",
              "                        1.8849e-01,  4.0317e-02, -8.9256e-02, -4.8627e-02, -2.6252e-01,\n",
              "                        1.8204e-02,  4.6113e-03,  8.6037e-02, -1.4606e-02,  7.4828e-02,\n",
              "                       -2.1487e-02, -8.1142e-02, -1.5639e-01,  3.2356e-02, -8.0726e-02,\n",
              "                       -1.1846e-01,  2.7398e-02, -5.0060e-02, -7.9630e-02, -1.7156e-01,\n",
              "                       -3.9246e-02, -1.5922e-01,  1.8065e-01, -2.0570e-01, -1.9003e-01,\n",
              "                        3.6617e-01, -8.6620e-02, -1.1767e-01,  7.0247e-02, -6.7808e-02,\n",
              "                        3.3275e-01, -1.4671e-01,  1.2058e-01,  3.5454e-02,  1.9568e-01,\n",
              "                        1.0975e-01,  4.5711e-02, -6.9423e-02,  2.6311e-02,  1.3421e-01,\n",
              "                        1.6497e-01, -1.3931e-01, -2.0532e-01,  7.8161e-03, -2.2599e-01,\n",
              "                        4.9945e-02,  2.0547e-01,  1.0458e-01,  1.2149e-02,  2.1371e-01,\n",
              "                       -1.2538e-01, -5.2965e-02,  2.2319e-01, -6.0227e-02, -3.3907e-03,\n",
              "                       -9.7944e-02,  7.9711e-02, -1.5323e-01,  2.1830e-01, -2.0779e-01,\n",
              "                        2.2724e-01,  1.1175e-01,  7.2909e-02,  1.3549e-01],\n",
              "                      [ 7.5642e-02, -2.5193e-01, -1.4402e-01, -1.0245e-01, -7.7765e-02,\n",
              "                       -1.0639e-01, -1.0883e-02,  7.1596e-02,  4.0301e-02,  6.5236e-02,\n",
              "                        3.2088e-02, -1.7222e-01, -4.4448e-02,  1.8113e-01, -2.6518e-02,\n",
              "                        7.1926e-02, -1.2037e-01,  2.6475e-01, -1.0674e-01, -1.9304e-01,\n",
              "                        3.4646e-03, -1.1462e-01,  1.5278e-01,  1.3552e-01,  3.6791e-02,\n",
              "                        1.0035e-01, -6.4066e-02,  4.3947e-02,  2.1347e-01, -2.6963e-01,\n",
              "                       -7.0429e-02,  1.1295e-01,  3.0394e-02, -1.6012e-01, -1.3413e-01,\n",
              "                       -1.4089e-01, -2.7519e-02, -9.5706e-02,  5.4534e-02, -7.5423e-02,\n",
              "                        3.6707e-02, -1.4905e-02, -1.1505e-01,  1.7453e-01,  7.0611e-02,\n",
              "                        1.1906e-01,  1.2013e-03, -2.0149e-01, -5.8445e-02,  2.7839e-02,\n",
              "                        3.5062e-03, -1.3637e-01, -1.6894e-01,  5.0786e-02,  6.9910e-02,\n",
              "                       -1.1941e-01, -2.6108e-02, -4.5393e-02,  3.0632e-02, -1.7025e-01,\n",
              "                       -6.4887e-02,  5.3359e-02, -7.3648e-02,  3.5353e-02,  2.7800e-01,\n",
              "                       -5.3609e-02,  8.6073e-02, -1.9827e-01,  4.7077e-02, -1.9018e-01,\n",
              "                        4.3608e-02,  1.6169e-01, -1.4150e-03, -5.1465e-02, -1.6227e-01,\n",
              "                        1.5448e-01,  3.8327e-02,  1.4278e-01, -1.3222e-01,  1.1626e-01,\n",
              "                        1.4867e-01,  1.3223e-01,  1.1057e-01, -5.1639e-02],\n",
              "                      [ 2.8776e-01, -1.4607e-01, -2.3275e-01, -3.2533e-01,  4.5339e-02,\n",
              "                       -4.1486e-01, -2.6183e-02, -4.0307e-02,  1.5456e-01, -6.6590e-02,\n",
              "                        8.7942e-02,  8.1583e-02, -9.6628e-02, -1.6863e-01,  4.5842e-02,\n",
              "                       -3.1203e-02, -1.4962e-01, -2.9573e-01, -1.8144e-01,  8.3698e-02,\n",
              "                        1.2063e-01,  1.4413e-01,  9.7473e-02, -7.3913e-02,  1.3151e-01,\n",
              "                        1.9640e-01,  6.5352e-02, -8.6022e-02, -1.0674e-01,  2.9761e-02,\n",
              "                       -2.6081e-02,  7.5540e-02, -5.1549e-02, -2.6846e-01, -1.5534e-01,\n",
              "                        1.4536e-01, -1.7592e-01, -5.1350e-02,  1.3465e-01,  2.1714e-01,\n",
              "                        2.3960e-02,  3.3608e-01,  2.4840e-01, -2.9048e-02, -6.8649e-02,\n",
              "                       -4.1855e-02, -4.7722e-02,  1.1064e-01,  1.2335e-01, -1.7646e-01,\n",
              "                       -2.4582e-02, -1.8925e-01,  1.5323e-01, -1.5729e-01, -2.8079e-02,\n",
              "                        1.1883e-01, -2.4556e-01,  2.4050e-01, -1.6278e-02, -8.4717e-02,\n",
              "                        5.3417e-02,  6.8119e-03, -6.5830e-02, -7.5874e-02, -8.8053e-02,\n",
              "                       -1.4476e-01, -6.4845e-02, -1.8659e-01,  1.9709e-01,  3.9564e-02,\n",
              "                       -1.1082e-01,  2.5092e-01, -1.3928e-01,  1.2555e-02,  4.7936e-02,\n",
              "                        2.1211e-01,  2.1571e-01,  6.4769e-03,  2.4991e-01,  7.2838e-02,\n",
              "                        1.9180e-02, -9.1416e-02, -1.3475e-01,  2.1062e-02],\n",
              "                      [ 1.0018e-01, -1.3038e-01, -1.5730e-01,  1.4898e-01,  3.4264e-02,\n",
              "                        1.4810e-01, -3.3881e-02, -2.3374e-01,  7.7759e-02, -4.3132e-02,\n",
              "                       -2.0194e-01, -8.6506e-02, -2.0720e-01,  1.0123e-01,  6.8731e-02,\n",
              "                       -1.6662e-01, -2.7799e-02,  3.7584e-02,  1.1442e-01, -1.1149e-01,\n",
              "                        1.4892e-01,  8.5373e-02, -2.7025e-01,  2.7475e-01, -2.3895e-01,\n",
              "                        1.6873e-01, -1.3641e-02,  3.5830e-02,  2.2323e-01,  6.0503e-02,\n",
              "                       -4.5492e-02,  3.5596e-02, -5.8047e-02,  3.0381e-02,  1.7018e-01,\n",
              "                       -1.4464e-01,  7.4889e-02,  4.1819e-01, -7.4792e-02,  1.3516e-01,\n",
              "                       -1.5852e-01, -6.8047e-02, -2.1110e-01, -3.1462e-01,  3.2857e-02,\n",
              "                       -2.3296e-01,  1.5290e-01, -2.5795e-01,  1.3581e-01,  1.3232e-01,\n",
              "                        1.7391e-01, -2.8313e-01, -2.6580e-01,  1.5273e-01, -1.4168e-01,\n",
              "                       -4.8509e-02,  3.3083e-01,  9.0507e-02,  1.7869e-01,  2.3661e-02,\n",
              "                        1.2108e-01, -1.7201e-01, -2.0827e-01, -1.9289e-02, -1.6307e-01,\n",
              "                       -5.1502e-02,  2.4589e-01,  8.4199e-02, -9.1617e-02, -2.3686e-01,\n",
              "                        1.9008e-02, -3.0388e-01,  2.1396e-02, -1.0783e-01,  1.7375e-01,\n",
              "                       -1.4028e-01, -1.7214e-01,  1.7178e-01, -1.2026e-01, -1.9880e-01,\n",
              "                       -8.0874e-02,  5.5991e-02, -9.8882e-03,  1.8368e-01],\n",
              "                      [-2.6959e-01,  3.4660e-01,  2.1713e-01,  1.3765e-01, -3.5223e-03,\n",
              "                       -1.2404e-01,  3.7882e-03, -9.9444e-02, -3.3280e-01, -5.2287e-02,\n",
              "                       -1.5755e-01,  2.1752e-01, -1.1141e-01,  3.0084e-01,  6.7584e-02,\n",
              "                        2.7125e-01, -2.2238e-01,  1.4486e-01,  1.0584e-02,  6.4892e-02,\n",
              "                       -8.5245e-02, -1.3022e-01,  2.1336e-03,  9.0177e-02, -6.7254e-02,\n",
              "                       -3.4385e-01, -1.2011e-01,  1.0218e-03,  1.1124e-01,  8.8608e-02,\n",
              "                       -1.7430e-01, -6.0470e-03,  1.9703e-01,  5.8059e-02,  1.7379e-01,\n",
              "                        2.4616e-01, -2.7951e-01, -2.0054e-01, -5.4286e-02, -4.2672e-02,\n",
              "                       -4.9331e-02, -1.4082e-01, -1.4076e-01,  1.9659e-01,  1.7982e-01,\n",
              "                        1.8718e-01, -1.1932e-01,  2.6471e-01, -3.0141e-02,  1.1792e-01,\n",
              "                       -2.5430e-01,  1.4943e-01, -1.6422e-01, -1.7415e-02, -9.4730e-02,\n",
              "                       -8.2972e-02, -1.8032e-01,  8.1977e-02, -1.7190e-01,  8.5917e-02,\n",
              "                       -1.9555e-01, -1.2547e-01,  1.0886e-01,  3.5534e-03, -1.0738e-01,\n",
              "                        1.7034e-01, -6.0853e-02,  1.0160e-01, -7.2383e-02, -4.8859e-02,\n",
              "                       -5.1843e-02,  1.5264e-01,  1.0923e-01,  8.0909e-02, -1.0234e-01,\n",
              "                        9.2893e-02, -1.6225e-02, -1.0194e-01, -2.6948e-01, -4.2045e-02,\n",
              "                       -1.3477e-01, -1.8023e-01,  1.7724e-01, -1.4605e-01],\n",
              "                      [ 4.0908e-02, -2.5413e-01,  1.5870e-01,  7.3771e-02,  1.5952e-01,\n",
              "                        6.6363e-02, -1.7532e-01, -8.1547e-02,  1.6664e-01, -2.1515e-01,\n",
              "                       -4.6604e-02,  1.0794e-01, -7.4624e-02, -9.1535e-02, -2.5594e-02,\n",
              "                        3.1119e-02,  1.3473e-01, -8.3757e-02,  2.1147e-01, -1.0832e-01,\n",
              "                       -1.6466e-01, -8.3361e-02, -1.7164e-02, -3.3339e-01,  2.4177e-01,\n",
              "                       -4.5880e-02, -5.1132e-02,  1.9713e-02,  1.0364e-01, -1.0699e-01,\n",
              "                        5.2948e-02,  2.5029e-01, -1.7491e-01, -4.6635e-02,  2.0110e-01,\n",
              "                        7.1805e-02, -9.9998e-02, -1.5067e-01, -9.1962e-02, -6.4108e-02,\n",
              "                       -7.9957e-02, -1.0391e-01, -1.8621e-01, -2.0034e-01,  2.8255e-02,\n",
              "                       -6.8425e-02,  3.5915e-01,  7.5380e-02, -8.7170e-02,  4.3121e-02,\n",
              "                       -1.2709e-01, -2.8950e-02, -2.5419e-02, -1.0926e-01, -2.7892e-01,\n",
              "                        1.6100e-01, -1.8009e-01, -5.8220e-02,  1.5226e-01,  7.9014e-02,\n",
              "                       -2.0974e-01,  5.0021e-02,  2.6077e-01, -1.9435e-01, -9.9160e-02,\n",
              "                       -1.0550e-01, -2.8113e-02, -8.4525e-02, -1.0484e-01,  2.1416e-01,\n",
              "                       -2.1557e-01, -7.5201e-03, -2.1906e-01, -1.5414e-01, -1.1360e-01,\n",
              "                       -1.8125e-02, -1.9405e-01,  2.9342e-02, -1.6948e-01,  6.1628e-02,\n",
              "                        1.6416e-01, -7.5225e-02, -3.3338e-01,  7.8542e-02]], device='cuda:0')),\n",
              "             ('fc3.bias',\n",
              "              tensor([ 0.0127, -0.2298,  0.0094,  0.0189,  0.2750, -0.0039, -0.1204, -0.2123,\n",
              "                       0.1498, -0.1146], device='cuda:0'))])"
            ]
          },
          "metadata": {
            "tags": []
          },
          "execution_count": 14
        }
      ]
    }
  ]
}