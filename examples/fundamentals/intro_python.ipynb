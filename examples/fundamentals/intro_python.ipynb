{
 "cells": [
  {
   "cell_type": "markdown",
   "metadata": {},
   "source": [
    "# Fundamentals of Python\n",
    "\n",
    "_written by [Gene Kogan](https://www.genekogan.com)_\n",
    "\n",
    "-----\n",
    "\n",
    "This notebook contains a small review of Python basics. We will only review several core concepts in Python with which we will be working a lot. The lecture video for this notebook will discuss some of these basics in more detail. If you are already familiar with Python, you may feel free to skip this. \n",
    "\n",
    "If you are a beginner to Python, it will be very helpful to review a more comprehensive tutorial before moving on. Some online resources for learning python follow:\n",
    "\n",
    "* [Learn Python the Hard Way](https://learnpythonthehardway.org/)\n",
    "* [Codecademy](https://www.codecademy.com/learn/learn-python)\n",
    "* [Learnpython.org](https://www.learnpython.org/)"
   ]
  },
  {
   "cell_type": "markdown",
   "metadata": {},
   "source": [
    "## How to use these notebooks\n",
    "\n",
    "Whether you are viewing this notebook using Project Jupyter or using Google Colab, you may refer to any guides which explain how to navigate and interact with IPython, Jupyter, or Colab notebooks.\n",
    "\n",
    "The notebook consists of cells which are either plain text/markdown or Python code. The code cells can be executed by hitting the play button or with the keyboard shortcut `CTRL`+`Enter` (or `SHIFT`+`Enter` to execute and advance to the next cell). To modify a cell, click into it and a text cursor will appear (double click in the case of the markdown/plain text slides).\n",
    "\n",
    "When you first connect to the notebook, you enter into an empty Python shell. As you execute the cells, you introduce variables and run operations on them. If at some point you disconnect, the variables and state of the shell are lost. Note that you are not forced into running the cells in orer from top to bottom, but if you ever receive an error saying a variable is missing, it's probably because you ddiddn't execute an earlier cell declaring that variable, or the notebook disconnected after declaring it."
   ]
  },
  {
   "cell_type": "markdown",
   "metadata": {},
   "source": [
    "# Features in Python\n",
    "\n",
    "A review of core concepts in Python follows:"
   ]
  },
  {
   "cell_type": "markdown",
   "metadata": {},
   "source": [
    "## Variables\n",
    "\n",
    "You can assign any item in Python to a variable, to refer to or operate on later."
   ]
  },
  {
   "cell_type": "code",
   "execution_count": 1,
   "metadata": {},
   "outputs": [
    {
     "name": "stdout",
     "output_type": "stream",
     "text": [
      "hello world\n"
     ]
    }
   ],
   "source": [
    "myVariable = 'hello world'\n",
    "print(myVariable)"
   ]
  },
  {
   "cell_type": "markdown",
   "metadata": {},
   "source": [
    "## Lists\n",
    "\n",
    "We start with the most basic data containers in Python, lists:"
   ]
  },
  {
   "cell_type": "code",
   "execution_count": 5,
   "metadata": {},
   "outputs": [
    {
     "name": "stdout",
     "output_type": "stream",
     "text": [
      "7\n"
     ]
    }
   ],
   "source": [
    "# basic list in Python\n",
    "X = [2, 5, 7, -2, 0, 8, 13]\n",
    "\n",
    "# lists can contain anything\n",
    "Y = [99, 'Alice', -14.2903, 'Bob', [1,2,3], 50]\n",
    "\n",
    "# lists are 0-indexed, so index 2 is the third element in X\n",
    "print(X[2])"
   ]
  },
  {
   "cell_type": "markdown",
   "metadata": {},
   "source": [
    "### Slicing lists\n",
    "\n",
    "Referring to subsets of lists (remember the 0 indexing):"
   ]
  },
  {
   "cell_type": "code",
   "execution_count": 6,
   "metadata": {},
   "outputs": [
    {
     "name": "stdout",
     "output_type": "stream",
     "text": [
      "[2, 5]\n",
      "[2, 5, 7, -2, 0]\n"
     ]
    }
   ],
   "source": [
    "# slicing\n",
    "y = X[0:2]\n",
    "print(y)\n",
    "y = X[:-2]  # -2 means 2 from the end. equivalent here to x[0:4] \n",
    "print(y)\n"
   ]
  },
  {
   "cell_type": "markdown",
   "metadata": {},
   "source": [
    "### List operations\n",
    "\n",
    "Various methods for lists:"
   ]
  },
  {
   "cell_type": "markdown",
   "metadata": {},
   "source": [
    "Find index of element with value 5"
   ]
  },
  {
   "cell_type": "code",
   "execution_count": 7,
   "metadata": {},
   "outputs": [
    {
     "name": "stdout",
     "output_type": "stream",
     "text": [
      "2\n"
     ]
    }
   ],
   "source": [
    "print(X.index(7))"
   ]
  },
  {
   "cell_type": "markdown",
   "metadata": {},
   "source": [
    "Count number of elements in list"
   ]
  },
  {
   "cell_type": "code",
   "execution_count": 8,
   "metadata": {},
   "outputs": [
    {
     "name": "stdout",
     "output_type": "stream",
     "text": [
      "7\n"
     ]
    }
   ],
   "source": [
    "print(len(X))"
   ]
  },
  {
   "cell_type": "markdown",
   "metadata": {},
   "source": [
    "Add element to the end of the list"
   ]
  },
  {
   "cell_type": "code",
   "execution_count": 9,
   "metadata": {},
   "outputs": [
    {
     "name": "stdout",
     "output_type": "stream",
     "text": [
      "[2, 5, 7, -2, 0, 8, 13, 99]\n"
     ]
    }
   ],
   "source": [
    "X.append(99)\n",
    "print(X)"
   ]
  },
  {
   "cell_type": "markdown",
   "metadata": {},
   "source": [
    "Insert element at index 2"
   ]
  },
  {
   "cell_type": "code",
   "execution_count": 10,
   "metadata": {},
   "outputs": [
    {
     "name": "stdout",
     "output_type": "stream",
     "text": [
      "[2, 55, 5, 7, -2, 0, 8, 13, 99]\n"
     ]
    }
   ],
   "source": [
    "X.insert(1, 55)\n",
    "print(X)"
   ]
  },
  {
   "cell_type": "markdown",
   "metadata": {},
   "source": [
    "### List comprehensions\n",
    "\n",
    "Convenient way in Python to make lists which are functions of other lists. Note the `**` operator is an exponent, so `x**2` means $x^2$."
   ]
  },
  {
   "cell_type": "markdown",
   "metadata": {},
   "source": [
    "New list is squares of z"
   ]
  },
  {
   "cell_type": "code",
   "execution_count": 8,
   "metadata": {},
   "outputs": [
    {
     "name": "stdout",
     "output_type": "stream",
     "text": [
      "[4, 3025, 25, 49, 4, 0, 64, 169, 9801]\n"
     ]
    }
   ],
   "source": [
    "z = [x**2 for x in X]\n",
    "print(z)"
   ]
  },
  {
   "cell_type": "markdown",
   "metadata": {},
   "source": [
    "New list is True/False if element is >3 or not"
   ]
  },
  {
   "cell_type": "code",
   "execution_count": 9,
   "metadata": {},
   "outputs": [
    {
     "name": "stdout",
     "output_type": "stream",
     "text": [
      "[False, True, True, True, False, False, True, True, True]\n"
     ]
    }
   ],
   "source": [
    "z = [x>3 for x in X]\n",
    "print(z)"
   ]
  },
  {
   "cell_type": "markdown",
   "metadata": {},
   "source": [
    "### Dictionaries (Dicts)\n",
    "\n",
    "Another way of storing data, which can be looked up using keys."
   ]
  },
  {
   "cell_type": "code",
   "execution_count": 10,
   "metadata": {},
   "outputs": [
    {
     "name": "stdout",
     "output_type": "stream",
     "text": [
      "Gene\n",
      "8\n",
      "yes, the key apples is in the dict z\n"
     ]
    }
   ],
   "source": [
    "z = {'name':'Gene', 'apples':5, 'oranges':8}\n",
    "print(z['name'])\n",
    "print(z['oranges'])\n",
    "if 'apples' in z:\n",
    "    print('yes, the key apples is in the dict z')"
   ]
  },
  {
   "cell_type": "markdown",
   "metadata": {},
   "source": [
    "## Loops\n",
    "\n",
    "For-loops are simple, but we will learn powerful ways to avoid them with Numpy, because they are not optimized for speed."
   ]
  },
  {
   "cell_type": "code",
   "execution_count": 11,
   "metadata": {},
   "outputs": [
    {
     "name": "stdout",
     "output_type": "stream",
     "text": [
      "Hi Alice\n",
      "Hi Bob\n",
      "Hi Carol\n",
      "Hi David\n"
     ]
    }
   ],
   "source": [
    "names = ['Alice', 'Bob', 'Carol', 'David']\n",
    "for name in names:\n",
    "    print('Hi %s' % name)"
   ]
  },
  {
   "cell_type": "markdown",
   "metadata": {},
   "source": [
    "Get a list of integers between two endpoints with `range`."
   ]
  },
  {
   "cell_type": "code",
   "execution_count": 12,
   "metadata": {},
   "outputs": [
    {
     "name": "stdout",
     "output_type": "stream",
     "text": [
      "5\n",
      "6\n",
      "7\n",
      "8\n"
     ]
    }
   ],
   "source": [
    "for i in range(5, 9):\n",
    "    print(i)"
   ]
  },
  {
   "cell_type": "markdown",
   "metadata": {},
   "source": [
    "## Functions\n",
    "\n",
    "A function is a reusable block of code."
   ]
  },
  {
   "cell_type": "code",
   "execution_count": 13,
   "metadata": {},
   "outputs": [
    {
     "name": "stdout",
     "output_type": "stream",
     "text": [
      "Hello Alice\n",
      "Hello Bob\n"
     ]
    }
   ],
   "source": [
    "def myFunction(myArgument):\n",
    "    print('Hello '+myArgument)\n",
    "    \n",
    "myFunction('Alice')\n",
    "myFunction('Bob')"
   ]
  },
  {
   "cell_type": "markdown",
   "metadata": {},
   "source": [
    "## Classes\n",
    "\n",
    "Classes bring object-oriented programming to Python. Each class can specify its constructor using the built-in `__init__` method. "
   ]
  },
  {
   "cell_type": "code",
   "execution_count": 11,
   "metadata": {},
   "outputs": [
    {
     "name": "stdout",
     "output_type": "stream",
     "text": [
      "Hello from ml4a!\n",
      "Hello from ml4a!\n",
      "Hello from ml4a!\n"
     ]
    }
   ],
   "source": [
    "class MyClass(object):\n",
    "    \n",
    "    def __init__(self, message): # constructor\n",
    "        self.message = message   # assign local variable in object\n",
    "    \n",
    "    def print_message(self, n_times=2):\n",
    "        for i in range(n_times):\n",
    "            print('%s' % self.message)\n",
    "\n",
    "M = MyClass('Hello from ml4a!')\n",
    "M.print_message(3)"
   ]
  },
  {
   "cell_type": "markdown",
   "metadata": {},
   "source": [
    "## Libraries / packages\n",
    "\n",
    "There are many libraries (often called \"packages\") avaialble for Python for various functions.\n",
    "\n",
    "Let's import two packages: `math` and `matplotlib.pyplot` (with an alias `plt`). Let's use the `math` function to calculate the cosine of 1."
   ]
  },
  {
   "cell_type": "code",
   "execution_count": 12,
   "metadata": {},
   "outputs": [
    {
     "name": "stdout",
     "output_type": "stream",
     "text": [
      "0.5403023058681398\n"
     ]
    }
   ],
   "source": [
    "import matplotlib.pyplot as plt\n",
    "import math\n",
    "\n",
    "z = math.cos(1)\n",
    "print(z)"
   ]
  },
  {
   "cell_type": "markdown",
   "metadata": {},
   "source": [
    "### Plotting\n",
    "\n",
    "Let's plot our sine curve. We'll be plotting a lot to make concepts more visually clear in the future."
   ]
  },
  {
   "cell_type": "code",
   "execution_count": 13,
   "metadata": {},
   "outputs": [
    {
     "data": {
      "text/plain": [
       "Text(0.5, 1.0, 'My plot title')"
      ]
     },
     "execution_count": 13,
     "metadata": {},
     "output_type": "execute_result"
    },
    {
     "data": {
      "image/png": "[encoded data removed]",
      "text/plain": [
       "<Figure size 432x432 with 1 Axes>"
      ]
     },
     "metadata": {
      "needs_background": "light"
     },
     "output_type": "display_data"
    }
   ],
   "source": [
    "X = [0.1*x for x in range(-50,50)]\n",
    "Y = [math.sin(x) for x in X]\n",
    "\n",
    "# make the figure\n",
    "plt.figure(figsize=(6,6))\n",
    "plt.plot(X, Y)\n",
    "plt.xlabel('x')\n",
    "plt.ylabel('y = sin(x)')\n",
    "plt.title('My plot title')"
   ]
  },
  {
   "cell_type": "code",
   "execution_count": null,
   "metadata": {},
   "outputs": [],
   "source": []
  }
 ],
 "metadata": {
  "kernelspec": {
   "display_name": "Python 3",
   "language": "python",
   "name": "python3"
  },
  "language_info": {
   "codemirror_mode": {
    "name": "ipython",
    "version": 3
   },
   "file_extension": ".py",
   "mimetype": "text/x-python",
   "name": "python",
   "nbconvert_exporter": "python",
   "pygments_lexer": "ipython3",
   "version": "3.8.3"
  }
 },
 "nbformat": 4,
 "nbformat_minor": 4
}
