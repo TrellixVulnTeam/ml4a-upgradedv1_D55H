{
 "cells": [
  {
   "cell_type": "markdown",
   "id": "defensive-steal",
   "metadata": {},
   "source": [
    "# Taming transformers\n",
    "\n",
    "## [![Open In Colab](https://colab.research.google.com/assets/colab-badge.svg)](https://colab.research.google.com/github/ml4a/ml4a-guides/blob/ml4a.net/examples/models/taming_transformers.ipynb)\n",
    "\n",
    "work in progress..."
   ]
  },
  {
   "cell_type": "markdown",
   "id": "suspected-consolidation",
   "metadata": {},
   "source": [
    "## Set up ml4a and enable GPU\n",
    "\n",
    "If you don't already have ml4a installed, or you are opening this in Colab, first enable GPU (`Runtime` > `Change runtime type`), then run the following cell to install ml4a and its dependencies."
   ]
  },
  {
   "cell_type": "code",
   "execution_count": null,
   "id": "gentle-shock",
   "metadata": {},
   "outputs": [],
   "source": [
    "%tensorflow_version 1.x\n",
    "!pip3 install --quiet git+https://www.github.com/ml4a/ml4a"
   ]
  },
  {
   "cell_type": "markdown",
   "id": "rolled-detection",
   "metadata": {},
   "source": [
    "## Load  \n",
    "\n",
    "..."
   ]
  },
  {
   "cell_type": "code",
   "execution_count": null,
   "id": "secure-diary",
   "metadata": {},
   "outputs": [
    {
     "name": "stdout",
     "output_type": "stream",
     "text": [
      "Downloading https://heibox.uni-heidelberg.de/d/73487ab6e5314cb5adba/files/?p=%2Fcheckpoints%2Flast.ckpt&dl=1 to /home/bzion/.ml4a/taming-transformers/net2net\n"
     ]
    }
   ],
   "source": [
    "from ml4a import image\n",
    "from ml4a.models import taming_transformers\n",
    "\n",
    "taming_transformers.setup('net2net')\n",
    "seg = taming_transformers.get_example_segmentation()\n",
    "taming_transformers.show_segmentation(seg)"
   ]
  },
  {
   "cell_type": "code",
   "execution_count": 5,
   "id": "successful-webcam",
   "metadata": {},
   "outputs": [
    {
     "name": "stdout",
     "output_type": "stream",
     "text": [
      "Working with z of shape (1, 256, 16, 16) = 65536 dimensions.\n",
      "Working with z of shape (1, 256, 16, 16) = 65536 dimensions.\n",
      "torch.Size([1, 182, 672, 1024])\n"
     ]
    }
   ],
   "source": [
    "out = taming_transformers.generate_from_segmentation(seg)\n",
    "print(out.shape)"
   ]
  },
  {
   "cell_type": "code",
   "execution_count": null,
   "id": "promising-contemporary",
   "metadata": {},
   "outputs": [],
   "source": [
    "#image.display(out)"
   ]
  }
 ],
 "metadata": {
  "kernelspec": {
   "display_name": "Python 3",
   "language": "python",
   "name": "python3"
  },
  "language_info": {
   "codemirror_mode": {
    "name": "ipython",
    "version": 3
   },
   "file_extension": ".py",
   "mimetype": "text/x-python",
   "name": "python",
   "nbconvert_exporter": "python",
   "pygments_lexer": "ipython3",
   "version": "3.6.9"
  }
 },
 "nbformat": 4,
 "nbformat_minor": 5
}
